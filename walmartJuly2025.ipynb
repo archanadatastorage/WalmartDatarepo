{
 "cells": [
  {
   "cell_type": "code",
   "execution_count": 1,
   "id": "c73a05f3",
   "metadata": {},
   "outputs": [],
   "source": [
    "import findspark\n",
    "findspark.init()"
   ]
  },
  {
   "cell_type": "code",
   "execution_count": 2,
   "id": "f20f4fe1",
   "metadata": {},
   "outputs": [],
   "source": [
    "from pyspark.sql import SparkSession"
   ]
  },
  {
   "cell_type": "code",
   "execution_count": 4,
   "id": "3b82f0c0",
   "metadata": {},
   "outputs": [],
   "source": [
    "spark = SparkSession.builder.master('local[2]').appName('sqlcode').getOrCreate()"
   ]
  },
  {
   "cell_type": "code",
   "execution_count": 5,
   "id": "fc635e83",
   "metadata": {},
   "outputs": [
    {
     "data": {
      "text/html": [
       "\n",
       "            <div>\n",
       "                <p><b>SparkSession - in-memory</b></p>\n",
       "                \n",
       "        <div>\n",
       "            <p><b>SparkContext</b></p>\n",
       "\n",
       "            <p><a href=\"http://DESKTOP-K50IMNA:4041\">Spark UI</a></p>\n",
       "\n",
       "            <dl>\n",
       "              <dt>Version</dt>\n",
       "                <dd><code>v3.2.4</code></dd>\n",
       "              <dt>Master</dt>\n",
       "                <dd><code>local[2]</code></dd>\n",
       "              <dt>AppName</dt>\n",
       "                <dd><code>sqlcode</code></dd>\n",
       "            </dl>\n",
       "        </div>\n",
       "        \n",
       "            </div>\n",
       "        "
      ],
      "text/plain": [
       "<pyspark.sql.session.SparkSession at 0x1e8ae8b8730>"
      ]
     },
     "execution_count": 5,
     "metadata": {},
     "output_type": "execute_result"
    }
   ],
   "source": [
    "spark"
   ]
  },
  {
   "cell_type": "code",
   "execution_count": 6,
   "id": "352ffecb",
   "metadata": {},
   "outputs": [],
   "source": [
    "ppl = spark.read.format('json').load(r'C:\\Users\\Krishna\\data\\people.json')"
   ]
  },
  {
   "cell_type": "code",
   "execution_count": 7,
   "id": "39a7cb9e",
   "metadata": {},
   "outputs": [
    {
     "data": {
      "text/plain": [
       "pyspark.sql.dataframe.DataFrame"
      ]
     },
     "execution_count": 7,
     "metadata": {},
     "output_type": "execute_result"
    }
   ],
   "source": [
    "type(ppl)"
   ]
  },
  {
   "cell_type": "code",
   "execution_count": 9,
   "id": "dfc55e8f",
   "metadata": {},
   "outputs": [
    {
     "data": {
      "text/plain": [
       "['age', 'name', 'pcode']"
      ]
     },
     "execution_count": 9,
     "metadata": {},
     "output_type": "execute_result"
    }
   ],
   "source": [
    "ppl.columns"
   ]
  },
  {
   "cell_type": "code",
   "execution_count": 10,
   "id": "9238582a",
   "metadata": {},
   "outputs": [
    {
     "name": "stdout",
     "output_type": "stream",
     "text": [
      "root\n",
      " |-- age: long (nullable = true)\n",
      " |-- name: string (nullable = true)\n",
      " |-- pcode: string (nullable = true)\n",
      "\n"
     ]
    }
   ],
   "source": [
    "ppl.printSchema()"
   ]
  },
  {
   "cell_type": "code",
   "execution_count": 11,
   "id": "19fed2f4",
   "metadata": {},
   "outputs": [
    {
     "data": {
      "text/plain": [
       "StructType(List(StructField(age,LongType,true),StructField(name,StringType,true),StructField(pcode,StringType,true)))"
      ]
     },
     "execution_count": 11,
     "metadata": {},
     "output_type": "execute_result"
    }
   ],
   "source": [
    "ppl.schema"
   ]
  },
  {
   "cell_type": "code",
   "execution_count": 12,
   "id": "e91b1ecb",
   "metadata": {},
   "outputs": [
    {
     "name": "stdout",
     "output_type": "stream",
     "text": [
      "+----+-------+-----+\n",
      "| age|   name|pcode|\n",
      "+----+-------+-----+\n",
      "|null|  Alice|94304|\n",
      "|  30|Brayden|94304|\n",
      "|  19|  Carla|10036|\n",
      "|  46|  Diana| null|\n",
      "|null|Etienne|94104|\n",
      "+----+-------+-----+\n",
      "\n"
     ]
    }
   ],
   "source": [
    "ppl.show()"
   ]
  },
  {
   "cell_type": "code",
   "execution_count": 13,
   "id": "51a83791",
   "metadata": {},
   "outputs": [
    {
     "data": {
      "text/plain": [
       "[Row(age=None, name='Alice', pcode='94304'),\n",
       " Row(age=30, name='Brayden', pcode='94304'),\n",
       " Row(age=19, name='Carla', pcode='10036'),\n",
       " Row(age=46, name='Diana', pcode=None),\n",
       " Row(age=None, name='Etienne', pcode='94104')]"
      ]
     },
     "execution_count": 13,
     "metadata": {},
     "output_type": "execute_result"
    }
   ],
   "source": [
    "ppl.collect()"
   ]
  },
  {
   "cell_type": "code",
   "execution_count": 14,
   "id": "fd8eac3c",
   "metadata": {},
   "outputs": [],
   "source": [
    "acc_par = spark.read.format('parquet').load(r'C:\\Users\\Krishna\\data\\accounts_parquet\\accounts_parquet')"
   ]
  },
  {
   "cell_type": "code",
   "execution_count": 15,
   "id": "a9768bce",
   "metadata": {},
   "outputs": [
    {
     "name": "stdout",
     "output_type": "stream",
     "text": [
      "root\n",
      " |-- acct_num: integer (nullable = true)\n",
      " |-- acct_create_dt: long (nullable = true)\n",
      " |-- acct_close_dt: long (nullable = true)\n",
      " |-- first_name: string (nullable = true)\n",
      " |-- last_name: string (nullable = true)\n",
      " |-- address: string (nullable = true)\n",
      " |-- city: string (nullable = true)\n",
      " |-- state: string (nullable = true)\n",
      " |-- zipcode: string (nullable = true)\n",
      " |-- phone_number: string (nullable = true)\n",
      " |-- created: long (nullable = true)\n",
      " |-- modified: long (nullable = true)\n",
      "\n"
     ]
    }
   ],
   "source": [
    "acc_par.printSchema()"
   ]
  },
  {
   "cell_type": "code",
   "execution_count": 16,
   "id": "1eedbb2c",
   "metadata": {},
   "outputs": [
    {
     "name": "stdout",
     "output_type": "stream",
     "text": [
      "+--------+--------------+-------------+----------+---------+-------------------+----------+-----+-------+------------+-------------+-------------+\n",
      "|acct_num|acct_create_dt|acct_close_dt|first_name|last_name|            address|      city|state|zipcode|phone_number|      created|     modified|\n",
      "+--------+--------------+-------------+----------+---------+-------------------+----------+-----+-------+------------+-------------+-------------+\n",
      "|   32441| 1341603329000|         null|     Peter|  Zachary| 1891 Jessie Street|Long Beach|   CA|  90743|  5628719002|1395174646000|1395174646000|\n",
      "|   32442| 1345273687000|         null|     Duane|     Ruiz|1023 Simpson Street|  Pasadena|   CA|  91051|  6262472463|1395174646000|1395174646000|\n",
      "+--------+--------------+-------------+----------+---------+-------------------+----------+-----+-------+------------+-------------+-------------+\n",
      "only showing top 2 rows\n",
      "\n"
     ]
    }
   ],
   "source": [
    "acc_par.show(2)"
   ]
  },
  {
   "cell_type": "code",
   "execution_count": 17,
   "id": "a7158ef0",
   "metadata": {},
   "outputs": [
    {
     "data": {
      "text/plain": [
       "97320"
      ]
     },
     "execution_count": 17,
     "metadata": {},
     "output_type": "execute_result"
    }
   ],
   "source": [
    "acc_par.count()"
   ]
  },
  {
   "cell_type": "code",
   "execution_count": 18,
   "id": "b2f1dc09",
   "metadata": {},
   "outputs": [],
   "source": [
    "pc = spark.read.format('text').load(r'C:\\Users\\Krishna\\data\\purplecow.txt')"
   ]
  },
  {
   "cell_type": "code",
   "execution_count": 19,
   "id": "d10a63a3",
   "metadata": {},
   "outputs": [
    {
     "name": "stdout",
     "output_type": "stream",
     "text": [
      "root\n",
      " |-- value: string (nullable = true)\n",
      "\n"
     ]
    }
   ],
   "source": [
    "pc.printSchema()"
   ]
  },
  {
   "cell_type": "code",
   "execution_count": 21,
   "id": "ca4f8edf",
   "metadata": {},
   "outputs": [
    {
     "data": {
      "text/plain": [
       "4"
      ]
     },
     "execution_count": 21,
     "metadata": {},
     "output_type": "execute_result"
    }
   ],
   "source": [
    "pc.count()"
   ]
  },
  {
   "cell_type": "code",
   "execution_count": null,
   "id": "20d913be",
   "metadata": {},
   "outputs": [],
   "source": []
  },
  {
   "cell_type": "code",
   "execution_count": null,
   "id": "a9acbbaa",
   "metadata": {},
   "outputs": [],
   "source": []
  },
  {
   "cell_type": "code",
   "execution_count": 37,
   "id": "14e074d4",
   "metadata": {},
   "outputs": [],
   "source": [
    "lat = spark.read.format('csv').option('sep','\\t')\\\n",
    ".option('inferSchema',True).load(r'C:\\Users\\Krishna\\data\\latlon.tsv')"
   ]
  },
  {
   "cell_type": "code",
   "execution_count": 38,
   "id": "46aab293",
   "metadata": {},
   "outputs": [
    {
     "name": "stdout",
     "output_type": "stream",
     "text": [
      "root\n",
      " |-- _c0: integer (nullable = true)\n",
      " |-- _c1: double (nullable = true)\n",
      " |-- _c2: double (nullable = true)\n",
      "\n"
     ]
    }
   ],
   "source": [
    "lat.printSchema()"
   ]
  },
  {
   "cell_type": "code",
   "execution_count": 39,
   "id": "d59ffa6f",
   "metadata": {},
   "outputs": [
    {
     "name": "stdout",
     "output_type": "stream",
     "text": [
      "+---+---------+----------+\n",
      "|_c0|      _c1|       _c2|\n",
      "+---+---------+----------+\n",
      "|210|43.005895|-71.013202|\n",
      "|211|43.005895|-71.013202|\n",
      "|212|43.005895|-71.013202|\n",
      "|213|43.005895|-71.013202|\n",
      "+---+---------+----------+\n",
      "only showing top 4 rows\n",
      "\n"
     ]
    }
   ],
   "source": [
    "lat.show(4)"
   ]
  },
  {
   "cell_type": "code",
   "execution_count": 41,
   "id": "1addd0e1",
   "metadata": {},
   "outputs": [],
   "source": [
    "from pyspark.sql.types import *"
   ]
  },
  {
   "cell_type": "code",
   "execution_count": 42,
   "id": "ad0ca4ca",
   "metadata": {},
   "outputs": [],
   "source": [
    "sch = StructType([StructField('citycode',IntegerType(),True),\\\n",
    "                 StructField('lattitude',DoubleType(),True),\\\n",
    "                 StructField('longitude',DoubleType(),True)])"
   ]
  },
  {
   "cell_type": "code",
   "execution_count": 43,
   "id": "8599632d",
   "metadata": {},
   "outputs": [],
   "source": [
    "latlon = spark.read.format('csv').option('sep','\\t')\\\n",
    ".schema(sch).load(r'C:\\Users\\Krishna\\data\\latlon.tsv')"
   ]
  },
  {
   "cell_type": "code",
   "execution_count": 44,
   "id": "31145845",
   "metadata": {},
   "outputs": [
    {
     "name": "stdout",
     "output_type": "stream",
     "text": [
      "root\n",
      " |-- citycode: integer (nullable = true)\n",
      " |-- lattitude: double (nullable = true)\n",
      " |-- longitude: double (nullable = true)\n",
      "\n"
     ]
    }
   ],
   "source": [
    "latlon.printSchema()"
   ]
  },
  {
   "cell_type": "code",
   "execution_count": 45,
   "id": "c5e8346b",
   "metadata": {},
   "outputs": [
    {
     "name": "stdout",
     "output_type": "stream",
     "text": [
      "+--------+---------+----------+\n",
      "|citycode|lattitude| longitude|\n",
      "+--------+---------+----------+\n",
      "|     210|43.005895|-71.013202|\n",
      "|     211|43.005895|-71.013202|\n",
      "|     212|43.005895|-71.013202|\n",
      "+--------+---------+----------+\n",
      "only showing top 3 rows\n",
      "\n"
     ]
    }
   ],
   "source": [
    "latlon.show(3)"
   ]
  },
  {
   "cell_type": "code",
   "execution_count": null,
   "id": "40f98dea",
   "metadata": {},
   "outputs": [],
   "source": []
  }
 ],
 "metadata": {
  "kernelspec": {
   "display_name": "Python 3 (ipykernel)",
   "language": "python",
   "name": "python3"
  },
  "language_info": {
   "codemirror_mode": {
    "name": "ipython",
    "version": 3
   },
   "file_extension": ".py",
   "mimetype": "text/x-python",
   "name": "python",
   "nbconvert_exporter": "python",
   "pygments_lexer": "ipython3",
   "version": "3.9.13"
  }
 },
 "nbformat": 4,
 "nbformat_minor": 5
}
