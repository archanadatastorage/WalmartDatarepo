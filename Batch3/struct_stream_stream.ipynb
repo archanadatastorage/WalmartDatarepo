{
 "cells": [
  {
   "cell_type": "code",
   "execution_count": 1,
   "metadata": {},
   "outputs": [],
   "source": [
    "import findspark\n",
    "findspark.init()"
   ]
  },
  {
   "cell_type": "code",
   "execution_count": 2,
   "metadata": {},
   "outputs": [],
   "source": [
    "from pyspark.sql import SparkSession\n",
    "from pyspark.sql.types import *\n",
    "from pyspark.sql.functions import *"
   ]
  },
  {
   "cell_type": "code",
   "execution_count": 3,
   "metadata": {},
   "outputs": [],
   "source": [
    "spark = SparkSession.builder\\\n",
    "      .master(\"local[3]\")\\\n",
    "      .appName(\"Stream Stream Join Demo\")\\\n",
    "      .config(\"spark.streaming.stopGracefullyOnShutdown\", \"true\")\\\n",
    "      .config(\"spark.sql.shuffle.partitions\", 2).config(\"spark.jars.packages\",\"org.apache.spark:spark-sql-kafka-0-10_2.11:2.4.8\")\\\n",
    "      .getOrCreate()"
   ]
  },
  {
   "cell_type": "code",
   "execution_count": 4,
   "metadata": {},
   "outputs": [],
   "source": [
    "impressionSchema = StructType([\\\n",
    "      StructField(\"InventoryID\", StringType(),True),\\\n",
    "      StructField(\"CreatedTime\", StringType(),True),\\\n",
    "      StructField(\"Campaigner\", StringType(),True)])"
   ]
  },
  {
   "cell_type": "code",
   "execution_count": 5,
   "metadata": {},
   "outputs": [],
   "source": [
    "clickSchema = StructType([\\\n",
    "      StructField(\"InventoryID\", StringType(),True),\\\n",
    "      StructField(\"CreatedTime\", StringType(),True)])"
   ]
  },
  {
   "cell_type": "code",
   "execution_count": 6,
   "metadata": {},
   "outputs": [],
   "source": [
    "kafkaImpressionDF = spark.readStream.format(\"kafka\")\\\n",
    "      .option(\"kafka.bootstrap.servers\", \"localhost:9092\")\\\n",
    "      .option(\"subscribe\", \"impressions\")\\\n",
    "      .option(\"startingOffsets\", \"earliest\").load()"
   ]
  },
  {
   "cell_type": "code",
   "execution_count": 7,
   "metadata": {},
   "outputs": [],
   "source": [
    "impressionsDF = kafkaImpressionDF\\\n",
    "      .select(from_json(col(\"value\").cast(\"string\"), impressionSchema).alias(\"value\"))\\\n",
    "      .selectExpr(\"value.InventoryID as ImpressionID\", \"value.CreatedTime\", \"value.Campaigner\")\\\n",
    "      .withColumn(\"ImpressionTime\", to_timestamp(col(\"CreatedTime\"), \"yyyy-MM-dd HH:mm:ss\"))\\\n",
    "      .drop(\"CreatedTime\")"
   ]
  },
  {
   "cell_type": "code",
   "execution_count": 8,
   "metadata": {},
   "outputs": [],
   "source": [
    "kafkaClickDF = spark.readStream.format(\"kafka\")\\\n",
    "      .option(\"kafka.bootstrap.servers\", \"localhost:9092\")\\\n",
    "      .option(\"subscribe\", \"clicks\")\\\n",
    "      .option(\"startingOffsets\", \"earliest\")\\\n",
    "      .load()"
   ]
  },
  {
   "cell_type": "code",
   "execution_count": 9,
   "metadata": {},
   "outputs": [],
   "source": [
    "clicksDF = kafkaClickDF.select(\\\n",
    "      from_json(col(\"value\").cast(\"string\"), clickSchema).alias(\"value\"))\\\n",
    "      .selectExpr(\"value.InventoryID as ClickID\", \"value.CreatedTime\")\\\n",
    "      .withColumn(\"ClickTime\", to_timestamp(col(\"CreatedTime\"), \"yyyy-MM-dd HH:mm:ss\"))\\\n",
    "      .drop(\"CreatedTime\")"
   ]
  },
  {
   "cell_type": "code",
   "execution_count": 11,
   "metadata": {},
   "outputs": [],
   "source": [
    "joinExpr = \"ImpressionID == ClickID\"\n",
    "joinType = \"inner\""
   ]
  },
  {
   "cell_type": "code",
   "execution_count": 12,
   "metadata": {},
   "outputs": [],
   "source": [
    "joinedDF = impressionsDF.join(clicksDF,expr(joinExpr), joinType)"
   ]
  },
  {
   "cell_type": "code",
   "execution_count": 13,
   "metadata": {},
   "outputs": [],
   "source": [
    "outputQuery = joinedDF.writeStream.format(\"console\")\\\n",
    "      .outputMode(\"append\")\\\n",
    "      .option(\"checkpointLocation\", \"chk2\")\\\n",
    "      .trigger(processingTime=\"1 minute\")\\\n",
    "      .start()"
   ]
  },
  {
   "cell_type": "code",
   "execution_count": null,
   "metadata": {},
   "outputs": [],
   "source": []
  }
 ],
 "metadata": {
  "kernelspec": {
   "display_name": "Python 3 (ipykernel)",
   "language": "python",
   "name": "python3"
  },
  "language_info": {
   "codemirror_mode": {
    "name": "ipython",
    "version": 3
   },
   "file_extension": ".py",
   "mimetype": "text/x-python",
   "name": "python",
   "nbconvert_exporter": "python",
   "pygments_lexer": "ipython3",
   "version": "3.9.13"
  }
 },
 "nbformat": 4,
 "nbformat_minor": 2
}
