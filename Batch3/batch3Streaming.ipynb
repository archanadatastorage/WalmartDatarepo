{
 "cells": [
  {
   "cell_type": "code",
   "execution_count": 1,
   "id": "bb65833a",
   "metadata": {},
   "outputs": [],
   "source": [
    "import findspark\n",
    "findspark.init()"
   ]
  },
  {
   "cell_type": "code",
   "execution_count": 2,
   "id": "3e543ead",
   "metadata": {},
   "outputs": [],
   "source": [
    "from pyspark.sql import SparkSession"
   ]
  },
  {
   "cell_type": "code",
   "execution_count": 3,
   "id": "24aaef94",
   "metadata": {},
   "outputs": [],
   "source": [
    "spark = SparkSession.builder.appName('streaming code').master('local[3]').getOrCreate()"
   ]
  },
  {
   "cell_type": "code",
   "execution_count": 4,
   "id": "0878ac71",
   "metadata": {},
   "outputs": [
    {
     "data": {
      "text/html": [
       "\n",
       "            <div>\n",
       "                <p><b>SparkSession - in-memory</b></p>\n",
       "                \n",
       "        <div>\n",
       "            <p><b>SparkContext</b></p>\n",
       "\n",
       "            <p><a href=\"http://DESKTOP-K50IMNA:4040\">Spark UI</a></p>\n",
       "\n",
       "            <dl>\n",
       "              <dt>Version</dt>\n",
       "                <dd><code>v3.2.4</code></dd>\n",
       "              <dt>Master</dt>\n",
       "                <dd><code>local[3]</code></dd>\n",
       "              <dt>AppName</dt>\n",
       "                <dd><code>streaming code</code></dd>\n",
       "            </dl>\n",
       "        </div>\n",
       "        \n",
       "            </div>\n",
       "        "
      ],
      "text/plain": [
       "<pyspark.sql.session.SparkSession at 0x204c9da4eb0>"
      ]
     },
     "execution_count": 4,
     "metadata": {},
     "output_type": "execute_result"
    }
   ],
   "source": [
    "spark"
   ]
  },
  {
   "cell_type": "code",
   "execution_count": 5,
   "id": "3d0a74e4",
   "metadata": {},
   "outputs": [],
   "source": [
    "#Rate Source\n",
    "#df = spark.readStream.format('rate').option('rowsPerSecond',10).load()"
   ]
  },
  {
   "cell_type": "code",
   "execution_count": 6,
   "id": "e93dd325",
   "metadata": {},
   "outputs": [],
   "source": [
    "#type(df)"
   ]
  },
  {
   "cell_type": "code",
   "execution_count": 7,
   "id": "3bbf7a8d",
   "metadata": {},
   "outputs": [],
   "source": [
    "#df.printSchema()"
   ]
  },
  {
   "cell_type": "code",
   "execution_count": 8,
   "id": "3427658b",
   "metadata": {},
   "outputs": [],
   "source": [
    "#df1 = df.withColumnRenamed('timestamp','monitor')"
   ]
  },
  {
   "cell_type": "code",
   "execution_count": 9,
   "id": "cc99e657",
   "metadata": {},
   "outputs": [],
   "source": [
    "#df1.printSchema()"
   ]
  },
  {
   "cell_type": "code",
   "execution_count": 10,
   "id": "2df7bfea",
   "metadata": {},
   "outputs": [],
   "source": [
    "#Console Sink\n",
    "#df1.writeStream.format('console').outputMode('append').start().awaitTermination()"
   ]
  },
  {
   "cell_type": "code",
   "execution_count": 11,
   "id": "0d196490",
   "metadata": {},
   "outputs": [],
   "source": [
    "#File Sink\n",
    "#df1.writeStream.format('json')\\\n",
    "#.option('path',r'C:\\Users\\Krishna\\data\\aug21')\\\n",
    "#.option('retention','1h')\\\n",
    "#.option(\"checkpointLocation\", r'C:\\Users\\Krishna\\data\\chk21')\\\n",
    "#.start().awaitTermination()"
   ]
  },
  {
   "cell_type": "code",
   "execution_count": 11,
   "id": "43770757",
   "metadata": {},
   "outputs": [],
   "source": [
    "# File Souce\n",
    "from pyspark.sql.types import *\n",
    "sch = StructType([\\\n",
    "                 StructField(\"monitor\",StringType(),True),\\\n",
    "                 StructField(\"value\",IntegerType(),True)])\n"
   ]
  },
  {
   "cell_type": "code",
   "execution_count": 12,
   "id": "a13a5407",
   "metadata": {},
   "outputs": [],
   "source": [
    "#data = spark.readStream.format('json').schema(sch)\\\n",
    "#.option('path',r'C:\\Users\\Krishna\\data\\aug21').load()"
   ]
  },
  {
   "cell_type": "code",
   "execution_count": 15,
   "id": "ae6b1149",
   "metadata": {},
   "outputs": [
    {
     "name": "stdout",
     "output_type": "stream",
     "text": [
      "root\n",
      " |-- monitor: string (nullable = true)\n",
      " |-- value: integer (nullable = true)\n",
      "\n"
     ]
    }
   ],
   "source": [
    "#data.printSchema()"
   ]
  },
  {
   "cell_type": "code",
   "execution_count": 16,
   "id": "c3e9f3e2",
   "metadata": {},
   "outputs": [
    {
     "name": "stdout",
     "output_type": "stream",
     "text": [
      "root\n",
      " |-- monitor: timestamp (nullable = true)\n",
      " |-- value: integer (nullable = true)\n",
      "\n"
     ]
    }
   ],
   "source": [
    "#df1= data.select(data.monitor.cast(TimestampType()),data.value)\n",
    "#df1.printSchema()"
   ]
  },
  {
   "cell_type": "code",
   "execution_count": null,
   "id": "0c040877",
   "metadata": {},
   "outputs": [],
   "source": [
    "#df1.writeStream.format('console').start().awaitTermination()"
   ]
  },
  {
   "cell_type": "code",
   "execution_count": 5,
   "id": "2b68f0fc",
   "metadata": {},
   "outputs": [],
   "source": [
    "#source host\n",
    "\n",
    "df = spark.readStream.format('socket')\\\n",
    ".option(\"host\",\"localhost\").option('port',9999).load()"
   ]
  },
  {
   "cell_type": "code",
   "execution_count": 6,
   "id": "8e01caca",
   "metadata": {},
   "outputs": [
    {
     "name": "stdout",
     "output_type": "stream",
     "text": [
      "root\n",
      " |-- value: string (nullable = true)\n",
      "\n"
     ]
    }
   ],
   "source": [
    "df.printSchema()"
   ]
  },
  {
   "cell_type": "code",
   "execution_count": 7,
   "id": "fc84c028",
   "metadata": {},
   "outputs": [],
   "source": [
    "from pyspark.sql.functions import *"
   ]
  },
  {
   "cell_type": "code",
   "execution_count": 8,
   "id": "0226b280",
   "metadata": {},
   "outputs": [],
   "source": [
    "res = df.select(explode(split('value',' ')).alias('words'))"
   ]
  },
  {
   "cell_type": "code",
   "execution_count": 9,
   "id": "ac0c1531",
   "metadata": {},
   "outputs": [
    {
     "name": "stdout",
     "output_type": "stream",
     "text": [
      "root\n",
      " |-- words: string (nullable = true)\n",
      "\n"
     ]
    }
   ],
   "source": [
    "res.printSchema()"
   ]
  },
  {
   "cell_type": "code",
   "execution_count": 10,
   "id": "9b2c1b37",
   "metadata": {},
   "outputs": [],
   "source": [
    "wc = res.groupBy('words').count()"
   ]
  },
  {
   "cell_type": "code",
   "execution_count": 11,
   "id": "ca4c8552",
   "metadata": {},
   "outputs": [
    {
     "name": "stdout",
     "output_type": "stream",
     "text": [
      "root\n",
      " |-- words: string (nullable = true)\n",
      " |-- count: long (nullable = false)\n",
      "\n"
     ]
    }
   ],
   "source": [
    "wc.printSchema()"
   ]
  },
  {
   "cell_type": "code",
   "execution_count": null,
   "id": "34655564",
   "metadata": {},
   "outputs": [],
   "source": [
    "#wc.writeStream.format('console').outputMode('update').start().awaitTermination()"
   ]
  },
  {
   "cell_type": "code",
   "execution_count": null,
   "id": "76153597",
   "metadata": {},
   "outputs": [],
   "source": [
    "wc.writeStream.format('console').outputMode('complete').start().awaitTermination()"
   ]
  },
  {
   "cell_type": "code",
   "execution_count": null,
   "id": "da5974e7",
   "metadata": {},
   "outputs": [],
   "source": []
  }
 ],
 "metadata": {
  "kernelspec": {
   "display_name": "Python 3 (ipykernel)",
   "language": "python",
   "name": "python3"
  },
  "language_info": {
   "codemirror_mode": {
    "name": "ipython",
    "version": 3
   },
   "file_extension": ".py",
   "mimetype": "text/x-python",
   "name": "python",
   "nbconvert_exporter": "python",
   "pygments_lexer": "ipython3",
   "version": "3.9.13"
  }
 },
 "nbformat": 4,
 "nbformat_minor": 5
}
