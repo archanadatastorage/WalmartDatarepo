{
 "cells": [
  {
   "cell_type": "code",
   "execution_count": 1,
   "id": "684738f4",
   "metadata": {},
   "outputs": [],
   "source": [
    "import findspark\n",
    "findspark.init()"
   ]
  },
  {
   "cell_type": "code",
   "execution_count": 2,
   "id": "07dbec22",
   "metadata": {},
   "outputs": [],
   "source": [
    "from pyspark import SparkContext,SparkConf"
   ]
  },
  {
   "cell_type": "code",
   "execution_count": 3,
   "id": "843e9a2b",
   "metadata": {},
   "outputs": [],
   "source": [
    "sconf = SparkConf().setMaster('local[2]').setAppName('code1')"
   ]
  },
  {
   "cell_type": "code",
   "execution_count": 4,
   "id": "241d8fc6",
   "metadata": {},
   "outputs": [],
   "source": [
    "sc = SparkContext(conf=sconf)"
   ]
  },
  {
   "cell_type": "code",
   "execution_count": 5,
   "id": "8457a511",
   "metadata": {},
   "outputs": [
    {
     "data": {
      "text/html": [
       "\n",
       "        <div>\n",
       "            <p><b>SparkContext</b></p>\n",
       "\n",
       "            <p><a href=\"http://DESKTOP-K50IMNA:4040\">Spark UI</a></p>\n",
       "\n",
       "            <dl>\n",
       "              <dt>Version</dt>\n",
       "                <dd><code>v3.2.4</code></dd>\n",
       "              <dt>Master</dt>\n",
       "                <dd><code>local[2]</code></dd>\n",
       "              <dt>AppName</dt>\n",
       "                <dd><code>code1</code></dd>\n",
       "            </dl>\n",
       "        </div>\n",
       "        "
      ],
      "text/plain": [
       "<SparkContext master=local[2] appName=code1>"
      ]
     },
     "execution_count": 5,
     "metadata": {},
     "output_type": "execute_result"
    }
   ],
   "source": [
    "sc\n"
   ]
  },
  {
   "cell_type": "code",
   "execution_count": 6,
   "id": "c2360aef",
   "metadata": {},
   "outputs": [],
   "source": [
    "l1 = [2,3,45,-10,2,300]"
   ]
  },
  {
   "cell_type": "code",
   "execution_count": 7,
   "id": "63c354d6",
   "metadata": {},
   "outputs": [
    {
     "data": {
      "text/plain": [
       "list"
      ]
     },
     "execution_count": 7,
     "metadata": {},
     "output_type": "execute_result"
    }
   ],
   "source": [
    "type(l1)"
   ]
  },
  {
   "cell_type": "code",
   "execution_count": 8,
   "id": "b55ad88d",
   "metadata": {},
   "outputs": [],
   "source": [
    "rddl1 = sc.parallelize(l1)"
   ]
  },
  {
   "cell_type": "code",
   "execution_count": 9,
   "id": "27185983",
   "metadata": {},
   "outputs": [
    {
     "data": {
      "text/plain": [
       "pyspark.rdd.RDD"
      ]
     },
     "execution_count": 9,
     "metadata": {},
     "output_type": "execute_result"
    }
   ],
   "source": [
    "type(rddl1)"
   ]
  },
  {
   "cell_type": "code",
   "execution_count": 10,
   "id": "cd0a4dec",
   "metadata": {},
   "outputs": [
    {
     "data": {
      "text/plain": [
       "[2, 3, 45, -10, 2, 300]"
      ]
     },
     "execution_count": 10,
     "metadata": {},
     "output_type": "execute_result"
    }
   ],
   "source": [
    "rddl1.collect()"
   ]
  },
  {
   "cell_type": "code",
   "execution_count": 11,
   "id": "9feb952b",
   "metadata": {},
   "outputs": [
    {
     "data": {
      "text/plain": [
       "[2, 3]"
      ]
     },
     "execution_count": 11,
     "metadata": {},
     "output_type": "execute_result"
    }
   ],
   "source": [
    "rddl1.take(2)"
   ]
  },
  {
   "cell_type": "code",
   "execution_count": 12,
   "id": "cfd41f07",
   "metadata": {},
   "outputs": [
    {
     "data": {
      "text/plain": [
       "2"
      ]
     },
     "execution_count": 12,
     "metadata": {},
     "output_type": "execute_result"
    }
   ],
   "source": [
    "rddl1.first()"
   ]
  },
  {
   "cell_type": "code",
   "execution_count": 13,
   "id": "3a58ebc4",
   "metadata": {},
   "outputs": [
    {
     "data": {
      "text/plain": [
       "6"
      ]
     },
     "execution_count": 13,
     "metadata": {},
     "output_type": "execute_result"
    }
   ],
   "source": [
    "rddl1.count()"
   ]
  },
  {
   "cell_type": "code",
   "execution_count": 14,
   "id": "d9c8315a",
   "metadata": {},
   "outputs": [],
   "source": [
    "res = rddl1.map(lambda x:x+100)"
   ]
  },
  {
   "cell_type": "code",
   "execution_count": 15,
   "id": "95abc5a6",
   "metadata": {},
   "outputs": [
    {
     "data": {
      "text/plain": [
       "[2, 3, 45, -10, 2, 300]"
      ]
     },
     "execution_count": 15,
     "metadata": {},
     "output_type": "execute_result"
    }
   ],
   "source": [
    "rddl1.collect()"
   ]
  },
  {
   "cell_type": "code",
   "execution_count": 16,
   "id": "f4dc79a0",
   "metadata": {},
   "outputs": [
    {
     "data": {
      "text/plain": [
       "[102, 103, 145, 90, 102, 400]"
      ]
     },
     "execution_count": 16,
     "metadata": {},
     "output_type": "execute_result"
    }
   ],
   "source": [
    "res.collect()"
   ]
  },
  {
   "cell_type": "code",
   "execution_count": 17,
   "id": "7af8c7c1",
   "metadata": {},
   "outputs": [],
   "source": [
    "pc = sc.textFile(r'C:\\Users\\Krishna\\data\\purplecow.txt')"
   ]
  },
  {
   "cell_type": "code",
   "execution_count": 18,
   "id": "282df6cd",
   "metadata": {},
   "outputs": [
    {
     "data": {
      "text/plain": [
       "[\"I've never seen a purple cow.\",\n",
       " 'I never hope to see one;',\n",
       " 'But I can tell you, anyhow,',\n",
       " \"I'd rather see than be one.\"]"
      ]
     },
     "execution_count": 18,
     "metadata": {},
     "output_type": "execute_result"
    }
   ],
   "source": [
    "pc.collect()"
   ]
  },
  {
   "cell_type": "code",
   "execution_count": 20,
   "id": "b5499d8e",
   "metadata": {},
   "outputs": [
    {
     "data": {
      "text/plain": [
       "4"
      ]
     },
     "execution_count": 20,
     "metadata": {},
     "output_type": "execute_result"
    }
   ],
   "source": [
    "pc.count()"
   ]
  },
  {
   "cell_type": "code",
   "execution_count": 28,
   "id": "29317cdc",
   "metadata": {},
   "outputs": [],
   "source": [
    "data = sc.textFile(r'C:\\Users\\Krishna\\data\\spark_python_code\\data_text')"
   ]
  },
  {
   "cell_type": "code",
   "execution_count": 29,
   "id": "9efa0aa7",
   "metadata": {},
   "outputs": [
    {
     "data": {
      "text/plain": [
       "27"
      ]
     },
     "execution_count": 29,
     "metadata": {},
     "output_type": "execute_result"
    }
   ],
   "source": [
    "data.count()"
   ]
  },
  {
   "cell_type": "code",
   "execution_count": 26,
   "id": "49857bea",
   "metadata": {},
   "outputs": [
    {
     "data": {
      "text/plain": [
       "[\"I've never seen a purple cow.\",\n",
       " 'I never hope to see one;',\n",
       " 'But I can tell you, anyhow,',\n",
       " \"I'd rather see than be one.\"]"
      ]
     },
     "execution_count": 26,
     "metadata": {},
     "output_type": "execute_result"
    }
   ],
   "source": [
    "data.collect()"
   ]
  },
  {
   "cell_type": "code",
   "execution_count": 33,
   "id": "25af6f84",
   "metadata": {},
   "outputs": [],
   "source": [
    "words = data.flatMap(lambda x :x.split(' '))"
   ]
  },
  {
   "cell_type": "code",
   "execution_count": 34,
   "id": "465cca84",
   "metadata": {},
   "outputs": [
    {
     "data": {
      "text/plain": [
       "['Two', 'roads']"
      ]
     },
     "execution_count": 34,
     "metadata": {},
     "output_type": "execute_result"
    }
   ],
   "source": [
    "words.take(2)"
   ]
  },
  {
   "cell_type": "code",
   "execution_count": 35,
   "id": "a779c5df",
   "metadata": {},
   "outputs": [
    {
     "data": {
      "text/plain": [
       "171"
      ]
     },
     "execution_count": 35,
     "metadata": {},
     "output_type": "execute_result"
    }
   ],
   "source": [
    "words.count()"
   ]
  },
  {
   "cell_type": "code",
   "execution_count": 36,
   "id": "58a982f0",
   "metadata": {},
   "outputs": [],
   "source": [
    "def g(num):\n",
    "    return [num-1,num,num+1]"
   ]
  },
  {
   "cell_type": "code",
   "execution_count": 37,
   "id": "da25ca48",
   "metadata": {},
   "outputs": [
    {
     "data": {
      "text/plain": [
       "[1, 2, 3]"
      ]
     },
     "execution_count": 37,
     "metadata": {},
     "output_type": "execute_result"
    }
   ],
   "source": [
    "g(2)"
   ]
  },
  {
   "cell_type": "code",
   "execution_count": 38,
   "id": "d26216ba",
   "metadata": {},
   "outputs": [
    {
     "data": {
      "text/plain": [
       "[2, 3, 45, -10, 2, 300]"
      ]
     },
     "execution_count": 38,
     "metadata": {},
     "output_type": "execute_result"
    }
   ],
   "source": [
    "rddl1.collect()"
   ]
  },
  {
   "cell_type": "code",
   "execution_count": 39,
   "id": "d305c88e",
   "metadata": {},
   "outputs": [],
   "source": [
    "res1 = rddl1.map(lambda x: g(x))"
   ]
  },
  {
   "cell_type": "code",
   "execution_count": 40,
   "id": "98163322",
   "metadata": {},
   "outputs": [
    {
     "data": {
      "text/plain": [
       "[[1, 2, 3],\n",
       " [2, 3, 4],\n",
       " [44, 45, 46],\n",
       " [-11, -10, -9],\n",
       " [1, 2, 3],\n",
       " [299, 300, 301]]"
      ]
     },
     "execution_count": 40,
     "metadata": {},
     "output_type": "execute_result"
    }
   ],
   "source": [
    "res1.collect()"
   ]
  },
  {
   "cell_type": "code",
   "execution_count": 41,
   "id": "8ea826a9",
   "metadata": {},
   "outputs": [],
   "source": [
    "res1 = rddl1.flatMap(lambda x: g(x))"
   ]
  },
  {
   "cell_type": "code",
   "execution_count": 42,
   "id": "97b64f60",
   "metadata": {},
   "outputs": [
    {
     "data": {
      "text/plain": [
       "[1, 2, 3, 2, 3, 4, 44, 45, 46, -11, -10, -9, 1, 2, 3, 299, 300, 301]"
      ]
     },
     "execution_count": 42,
     "metadata": {},
     "output_type": "execute_result"
    }
   ],
   "source": [
    "res1.collect()"
   ]
  },
  {
   "cell_type": "code",
   "execution_count": null,
   "id": "475c9e82",
   "metadata": {},
   "outputs": [],
   "source": []
  }
 ],
 "metadata": {
  "kernelspec": {
   "display_name": "Python 3 (ipykernel)",
   "language": "python",
   "name": "python3"
  },
  "language_info": {
   "codemirror_mode": {
    "name": "ipython",
    "version": 3
   },
   "file_extension": ".py",
   "mimetype": "text/x-python",
   "name": "python",
   "nbconvert_exporter": "python",
   "pygments_lexer": "ipython3",
   "version": "3.9.13"
  }
 },
 "nbformat": 4,
 "nbformat_minor": 5
}
