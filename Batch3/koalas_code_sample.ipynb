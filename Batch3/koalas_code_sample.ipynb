{
 "cells": [
  {
   "cell_type": "code",
   "execution_count": 1,
   "id": "b8ce17b2",
   "metadata": {},
   "outputs": [],
   "source": [
    "import findspark\n",
    "findspark.init()"
   ]
  },
  {
   "cell_type": "code",
   "execution_count": 2,
   "id": "395a9dee",
   "metadata": {},
   "outputs": [],
   "source": [
    "from pyspark import SparkContext, SparkConf\n",
    "from pyspark.sql import SparkSession"
   ]
  },
  {
   "cell_type": "code",
   "execution_count": 3,
   "id": "8c456c0e",
   "metadata": {},
   "outputs": [
    {
     "data": {
      "text/html": [
       "\n",
       "            <div>\n",
       "                <p><b>SparkSession - in-memory</b></p>\n",
       "                \n",
       "        <div>\n",
       "            <p><b>SparkContext</b></p>\n",
       "\n",
       "            <p><a href=\"http://DESKTOP-K50IMNA:4040\">Spark UI</a></p>\n",
       "\n",
       "            <dl>\n",
       "              <dt>Version</dt>\n",
       "                <dd><code>v3.2.4</code></dd>\n",
       "              <dt>Master</dt>\n",
       "                <dd><code>local</code></dd>\n",
       "              <dt>AppName</dt>\n",
       "                <dd><code>mycode</code></dd>\n",
       "            </dl>\n",
       "        </div>\n",
       "        \n",
       "            </div>\n",
       "        "
      ],
      "text/plain": [
       "<pyspark.sql.session.SparkSession at 0x1866e124eb0>"
      ]
     },
     "execution_count": 3,
     "metadata": {},
     "output_type": "execute_result"
    }
   ],
   "source": [
    "spark= SparkSession.builder.master(\"local\").appName(\"mycode\").getOrCreate()\n",
    "spark"
   ]
  },
  {
   "cell_type": "code",
   "execution_count": 4,
   "id": "8de21e4b",
   "metadata": {},
   "outputs": [
    {
     "name": "stderr",
     "output_type": "stream",
     "text": [
      "WARNING:root:Found pyspark version \"3.2.4\" installed. The pyspark version 3.2 and above has a built-in \"pandas APIs on Spark\" module ported from Koalas. Try `import pyspark.pandas as ps` instead. \n",
      "WARNING:root:'PYARROW_IGNORE_TIMEZONE' environment variable was not set. It is required to set this environment variable to '1' in both driver and executor sides if you use pyarrow>=2.0.0. Koalas will set it for you but it does not work if there is a Spark context already launched.\n"
     ]
    }
   ],
   "source": [
    "import databricks.koalas as ks\n",
    "import pyspark.pandas as pd"
   ]
  },
  {
   "cell_type": "code",
   "execution_count": 6,
   "id": "e2322caa",
   "metadata": {},
   "outputs": [],
   "source": [
    "df = ks.read_json(\"file:///C:/Users/Krishna/data/people.json\")"
   ]
  },
  {
   "cell_type": "code",
   "execution_count": 7,
   "id": "a5fb73e3",
   "metadata": {},
   "outputs": [
    {
     "data": {
      "text/plain": [
       "databricks.koalas.frame.DataFrame"
      ]
     },
     "execution_count": 7,
     "metadata": {},
     "output_type": "execute_result"
    }
   ],
   "source": [
    "type(df)"
   ]
  },
  {
   "cell_type": "code",
   "execution_count": 8,
   "id": "d1ff64e9",
   "metadata": {},
   "outputs": [
    {
     "name": "stdout",
     "output_type": "stream",
     "text": [
      "root\n",
      " |-- age: long (nullable = true)\n",
      " |-- name: string (nullable = true)\n",
      " |-- pcode: string (nullable = true)\n",
      "\n"
     ]
    }
   ],
   "source": [
    "df.spark.print_schema()"
   ]
  },
  {
   "cell_type": "code",
   "execution_count": 9,
   "id": "fda95c39",
   "metadata": {},
   "outputs": [
    {
     "data": {
      "text/html": [
       "<div>\n",
       "<style scoped>\n",
       "    .dataframe tbody tr th:only-of-type {\n",
       "        vertical-align: middle;\n",
       "    }\n",
       "\n",
       "    .dataframe tbody tr th {\n",
       "        vertical-align: top;\n",
       "    }\n",
       "\n",
       "    .dataframe thead th {\n",
       "        text-align: right;\n",
       "    }\n",
       "</style>\n",
       "<table border=\"1\" class=\"dataframe\">\n",
       "  <thead>\n",
       "    <tr style=\"text-align: right;\">\n",
       "      <th></th>\n",
       "      <th>age</th>\n",
       "      <th>name</th>\n",
       "      <th>pcode</th>\n",
       "    </tr>\n",
       "  </thead>\n",
       "  <tbody>\n",
       "    <tr>\n",
       "      <th>0</th>\n",
       "      <td>NaN</td>\n",
       "      <td>Alice</td>\n",
       "      <td>94304</td>\n",
       "    </tr>\n",
       "    <tr>\n",
       "      <th>1</th>\n",
       "      <td>30.0</td>\n",
       "      <td>Brayden</td>\n",
       "      <td>94304</td>\n",
       "    </tr>\n",
       "    <tr>\n",
       "      <th>2</th>\n",
       "      <td>19.0</td>\n",
       "      <td>Carla</td>\n",
       "      <td>10036</td>\n",
       "    </tr>\n",
       "    <tr>\n",
       "      <th>3</th>\n",
       "      <td>46.0</td>\n",
       "      <td>Diana</td>\n",
       "      <td>None</td>\n",
       "    </tr>\n",
       "    <tr>\n",
       "      <th>4</th>\n",
       "      <td>NaN</td>\n",
       "      <td>Etienne</td>\n",
       "      <td>94104</td>\n",
       "    </tr>\n",
       "  </tbody>\n",
       "</table>\n",
       "</div>"
      ],
      "text/plain": [
       "    age     name  pcode\n",
       "0   NaN    Alice  94304\n",
       "1  30.0  Brayden  94304\n",
       "2  19.0    Carla  10036\n",
       "3  46.0    Diana   None\n",
       "4   NaN  Etienne  94104"
      ]
     },
     "execution_count": 9,
     "metadata": {},
     "output_type": "execute_result"
    }
   ],
   "source": [
    "df"
   ]
  },
  {
   "cell_type": "code",
   "execution_count": 16,
   "id": "5e5fbd0a",
   "metadata": {},
   "outputs": [
    {
     "data": {
      "text/plain": [
       "0    False\n",
       "1    False\n",
       "2    False\n",
       "3     True\n",
       "4    False\n",
       "Name: age, dtype: bool"
      ]
     },
     "execution_count": 16,
     "metadata": {},
     "output_type": "execute_result"
    }
   ],
   "source": [
    "df.age>30"
   ]
  },
  {
   "cell_type": "code",
   "execution_count": 17,
   "id": "00245adb",
   "metadata": {},
   "outputs": [],
   "source": [
    "import seaborn as sns\n",
    "import matplotlib.pyplot as plt"
   ]
  },
  {
   "cell_type": "code",
   "execution_count": 18,
   "id": "1b46f856",
   "metadata": {},
   "outputs": [
    {
     "name": "stderr",
     "output_type": "stream",
     "text": [
      "C:\\Users\\Krishna\\anaconda3\\lib\\site-packages\\seaborn\\_decorators.py:36: FutureWarning: Pass the following variable as a keyword arg: x. From version 0.12, the only valid positional argument will be `data`, and passing other arguments without an explicit keyword will result in an error or misinterpretation.\n",
      "  warnings.warn(\n"
     ]
    },
    {
     "data": {
      "text/plain": [
       "<AxesSubplot:ylabel='count'>"
      ]
     },
     "execution_count": 18,
     "metadata": {},
     "output_type": "execute_result"
    },
    {
     "data": {
      "image/png": "[encoded data removed]",
      "text/plain": [
       "<Figure size 640x480 with 1 Axes>"
      ]
     },
     "metadata": {},
     "output_type": "display_data"
    }
   ],
   "source": [
    "sns.countplot(df['name'].to_numpy())"
   ]
  },
  {
   "cell_type": "code",
   "execution_count": 23,
   "id": "0139c912",
   "metadata": {},
   "outputs": [],
   "source": [
    "import pyspark.pandas as ps\n",
    "psdf = ps.read_csv(\"file:///C:/Users/Krishna/data/latlon.tsv\",sep='\\t') # This is a pandas-on-Spark DataFrame\n",
    "pdf = psdf.to_pandas()          # Convert to actual Pandas DataFrame\n"
   ]
  },
  {
   "cell_type": "markdown",
   "id": "25b436f8",
   "metadata": {},
   "source": [
    "1. DataFrame Creation\n",
    "Koalas Method (pandas-on-Spark)\tPySpark Equivalent\n",
    "ps.read_csv()\tspark.read.csv()\n",
    "ps.read_parquet()\tspark.read.parquet()\n",
    "ps.from_pandas()\tspark.createDataFrame()\n",
    "ps.range()\tspark.range()"
   ]
  },
  {
   "cell_type": "markdown",
   "id": "b1661c9e",
   "metadata": {},
   "source": [
    "2. DataFrame Operations\n",
    "Koalas / pandas-on-Spark\tPySpark\n",
    "df.head()\tdf.limit(n).collect()\n",
    "df.tail()\tReverses and collects\n",
    "df.sample()\tdf.sample()\n",
    "df.dropna()\tdf.na.drop()\n",
    "df.fillna()\tdf.na.fill()\n",
    "df.astype()\tdf.withColumn(...cast())\n",
    "df.select_dtypes()\tNot directly in PySpark\n",
    "df.drop()\tdf.drop()"
   ]
  },
  {
   "cell_type": "code",
   "execution_count": null,
   "id": "19e8f4fd",
   "metadata": {},
   "outputs": [],
   "source": [
    "2. DataFrame Operations\n",
    "Koalas / pandas-on-Spark\tPySpark\n",
    "df.head()\tdf.limit(n).collect()\n",
    "df.tail()\tReverses and collects\n",
    "df.sample()\tdf.sample()\n",
    "df.dropna()\tdf.na.drop()\n",
    "df.fillna()\tdf.na.fill()\n",
    "df.astype()\tdf.withColumn(...cast())\n",
    "df.select_dtypes()\tNot directly in PySpark\n",
    "df.drop()\tdf.drop()\n",
    "df.rename()\tdf.withColumnRenamed()\n"
   ]
  },
  {
   "cell_type": "markdown",
   "id": "a78c5115",
   "metadata": {},
   "source": [
    "3. Aggregation / Grouping\n",
    "Koalas / pandas-on-Spark\tPySpark\n",
    "df.groupby(...).sum()\tdf.groupBy().sum()\n",
    "df.groupby(...).mean()\tdf.groupBy().avg()\n",
    "df.groupby(...).agg()\tdf.groupBy().agg()\n",
    "df.rolling()\tImplemented via window functions\n",
    "df.expanding()\tApproximate using cumulative logic\n",
    "df.cumsum()\tWindow + sum()\n",
    "df.cummax()\tCustom with Window"
   ]
  },
  {
   "cell_type": "markdown",
   "id": "17d5c078",
   "metadata": {},
   "source": [
    "Joining / Merging\n",
    "Koalas / pandas-on-Spark\tPySpark\n",
    "df.merge()\tdf.join()\n",
    "df.join()\tdf.join()\n",
    "df.append()\tdf.union()\n",
    "df.concat()\tdf.union() or DataFrame.unionByName()"
   ]
  },
  {
   "cell_type": "markdown",
   "id": "4b56b977",
   "metadata": {},
   "source": [
    " 6. Sorting / Filtering\n",
    "Koalas / pandas-on-Spark\tPySpark\n",
    "df.sort_values()\tdf.orderBy()\n",
    "df.query()\tConverted to filter condition\n",
    "df[df.col > 10]\tdf.filter(df.col > 10)\n",
    "\n",
    "🔹 7. String & Date Operations\n",
    "Koalas / pandas-on-Spark\tPySpark\n",
    "df.str.lower()\tF.lower(df.col)\n",
    "df.str.contains()\tdf.col.contains()\n",
    "df.dt.year\tF.year(df.col)\n",
    "df.dt.month\tF.month(df.col)\n",
    "\n",
    "🔹 8. Conversion\n",
    "Koalas / pandas-on-Spark\tPySpark\n",
    "df.to_pandas()\tdf.toPandas()\n",
    "df.to_spark()\tConverts to PySpark DataFrame\n",
    "ps.from_pandas()\tspark.createDataFrame()\n",
    "df.to_numpy()\ttoPandas().to_numpy()\n",
    "\n",
    "🔹 9. Plotting\n",
    "Koalas supports df.plot() using Matplotlib (after converting to Pandas under the hood).\n",
    "\n",
    "Not available in PySpark directly.\n",
    "\n",
    "🔹 10. Misc\n",
    "Koalas / pandas-on-Spark\tPySpark\n",
    "df.describe()\tdf.describe()\n",
    "df.info()\tEmulated (not native in PySpark)\n",
    "df.memory_usage()\tNot directly supported in PySpark\n",
    "\n",
    "✅ Summary\n",
    "Koalas (pandas-on-Spark) is essentially a wrapper layer over PySpark. Internally:\n",
    "\n",
    "Operations are translated into PySpark DataFrame transformations and actions\n",
    "\n",
    "Indexes are simulated, not natively present in PySpark\n",
    "\n",
    "Much of Pandas-style syntax is made available using PySpark under the hood"
   ]
  },
  {
   "cell_type": "code",
   "execution_count": null,
   "id": "44edbe41",
   "metadata": {},
   "outputs": [],
   "source": []
  }
 ],
 "metadata": {
  "kernelspec": {
   "display_name": "Python 3 (ipykernel)",
   "language": "python",
   "name": "python3"
  },
  "language_info": {
   "codemirror_mode": {
    "name": "ipython",
    "version": 3
   },
   "file_extension": ".py",
   "mimetype": "text/x-python",
   "name": "python",
   "nbconvert_exporter": "python",
   "pygments_lexer": "ipython3",
   "version": "3.9.13"
  }
 },
 "nbformat": 4,
 "nbformat_minor": 5
}
