{
 "cells": [
  {
   "cell_type": "code",
   "execution_count": 1,
   "id": "f4345867-e97d-4241-931d-3fdea25148d8",
   "metadata": {},
   "outputs": [],
   "source": [
    "from pyspark.sql import SparkSession\n",
    "from pyspark.sql.types import *\n",
    "from pyspark.sql.functions import *"
   ]
  },
  {
   "cell_type": "code",
   "execution_count": 2,
   "id": "bf37c920-6fa2-4c12-bd73-48ac556685ba",
   "metadata": {},
   "outputs": [],
   "source": [
    "spark = SparkSession.builder\\\n",
    "      .master(\"local\")\\\n",
    ".config(\"spark.sql.adaptive.enabled\",False)\\\n",
    ".config('spark.sql.autobroadcastjointhreshold',-1)\\\n",
    ".config('spark.sql.adaptive.coalescePartitions.enabled',False).getOrCreate()"
   ]
  },
  {
   "cell_type": "code",
   "execution_count": 3,
   "id": "89258c35-77e9-4de2-bdfd-1dc0fa65215f",
   "metadata": {
    "scrolled": true
   },
   "outputs": [
    {
     "data": {
      "text/html": [
       "\n",
       "            <div>\n",
       "                <p><b>SparkSession - in-memory</b></p>\n",
       "                \n",
       "        <div>\n",
       "            <p><b>SparkContext</b></p>\n",
       "\n",
       "            <p><a href=\"http://DESKTOP-K50IMNA:4042\">Spark UI</a></p>\n",
       "\n",
       "            <dl>\n",
       "              <dt>Version</dt>\n",
       "                <dd><code>v3.4.4</code></dd>\n",
       "              <dt>Master</dt>\n",
       "                <dd><code>local</code></dd>\n",
       "              <dt>AppName</dt>\n",
       "                <dd><code>pyspark-shell</code></dd>\n",
       "            </dl>\n",
       "        </div>\n",
       "        \n",
       "            </div>\n",
       "        "
      ],
      "text/plain": [
       "<pyspark.sql.session.SparkSession at 0x2315e647c40>"
      ]
     },
     "execution_count": 3,
     "metadata": {},
     "output_type": "execute_result"
    }
   ],
   "source": [
    "spark"
   ]
  },
  {
   "cell_type": "code",
   "execution_count": 4,
   "id": "4aa46676-d466-48c4-9ebf-5ae6774c5a65",
   "metadata": {},
   "outputs": [],
   "source": [
    "df = spark.read.format(\"parquet\").load(r'C:\\Users\\Krishna\\data\\accounts_parquet\\accounts_parquet')"
   ]
  },
  {
   "cell_type": "code",
   "execution_count": 5,
   "id": "d9af20f2-f679-457e-ae29-0be4a700e308",
   "metadata": {},
   "outputs": [
    {
     "name": "stdout",
     "output_type": "stream",
     "text": [
      "+--------+--------------+-------------+----------+---------+-------------------+----------+-----+-------+------------+-------------+-------------+\n",
      "|acct_num|acct_create_dt|acct_close_dt|first_name|last_name|address            |city      |state|zipcode|phone_number|created      |modified     |\n",
      "+--------+--------------+-------------+----------+---------+-------------------+----------+-----+-------+------------+-------------+-------------+\n",
      "|32441   |1341603329000 |null         |Peter     |Zachary  |1891 Jessie Street |Long Beach|CA   |90743  |5628719002  |1395174646000|1395174646000|\n",
      "|32442   |1345273687000 |null         |Duane     |Ruiz     |1023 Simpson Street|Pasadena  |CA   |91051  |6262472463  |1395174646000|1395174646000|\n",
      "|32443   |1347189332000 |null         |Desiree   |Beall    |4830 Davis Place   |Reno      |NV   |89468  |7758006922  |1395174646000|1395174646000|\n",
      "|32444   |1353649861000 |null         |Molly     |Pinder   |708 Locust Court   |Las Vegas |NV   |89103  |7024413066  |1395174646000|1395174646000|\n",
      "+--------+--------------+-------------+----------+---------+-------------------+----------+-----+-------+------------+-------------+-------------+\n",
      "only showing top 4 rows\n",
      "\n"
     ]
    }
   ],
   "source": [
    "df.show(4,False)"
   ]
  },
  {
   "cell_type": "code",
   "execution_count": 6,
   "id": "7615c2ed-603f-4cb0-b491-b22fdc85ec5a",
   "metadata": {},
   "outputs": [
    {
     "data": {
      "text/plain": [
       "97320"
      ]
     },
     "execution_count": 6,
     "metadata": {},
     "output_type": "execute_result"
    }
   ],
   "source": [
    "df.count()"
   ]
  },
  {
   "cell_type": "code",
   "execution_count": 7,
   "id": "77adb233-ada7-4b28-84c3-31b4e586ab0d",
   "metadata": {},
   "outputs": [
    {
     "name": "stdout",
     "output_type": "stream",
     "text": [
      "== Physical Plan ==\n",
      "*(1) ColumnarToRow\n",
      "+- FileScan parquet [acct_num#0,acct_create_dt#1L,acct_close_dt#2L,first_name#3,last_name#4,address#5,city#6,state#7,zipcode#8,phone_number#9,created#10L,modified#11L] Batched: true, DataFilters: [], Format: Parquet, Location: InMemoryFileIndex(1 paths)[file:/C:/Users/Krishna/data/accounts_parquet/accounts_parquet], PartitionFilters: [], PushedFilters: [], ReadSchema: struct<acct_num:int,acct_create_dt:bigint,acct_close_dt:bigint,first_name:string,last_name:string...\n",
      "\n",
      "\n"
     ]
    }
   ],
   "source": [
    "df.explain()"
   ]
  },
  {
   "cell_type": "code",
   "execution_count": 6,
   "id": "74132907-8d2f-4e25-8844-15d3602db92f",
   "metadata": {},
   "outputs": [],
   "source": [
    "from pyspark.sql.functions import *"
   ]
  },
  {
   "cell_type": "code",
   "execution_count": 7,
   "id": "00426c93-7938-482d-aab5-06d6c4a45ef7",
   "metadata": {},
   "outputs": [],
   "source": [
    "df1 = (df.filter(col('state')=='CA').withColumn('fn',upper('first_name'))\\\n",
    "                                               .withColumn('ln',upper('last_name'))\\\n",
    "        .select('fn','ln','state','city','zipcode'))"
   ]
  },
  {
   "cell_type": "code",
   "execution_count": 8,
   "id": "d2ad532c-7ec4-41ae-a445-d8c2095050ae",
   "metadata": {},
   "outputs": [],
   "source": [
    "#noop simulates the write but no writing of data\n",
    "df1.write.format('noop').mode('append').save(r'C:\\Users\\Krishna\\data\\aug2025')"
   ]
  },
  {
   "cell_type": "code",
   "execution_count": 9,
   "id": "291a8e89-0d12-45ea-9b65-da19fcd53d3e",
   "metadata": {},
   "outputs": [],
   "source": [
    "ppl = spark.read.format('json').load(r'C:\\Users\\Krishna\\data\\people.json')"
   ]
  },
  {
   "cell_type": "code",
   "execution_count": 25,
   "id": "abc3a080-3af3-433d-8322-eec19b16d89e",
   "metadata": {},
   "outputs": [],
   "source": [
    "spark.conf.set(\"spark.sql.adaptive.enabled\",False)\n",
    "spark.conf.set('spark.sql.autobroadcastjointhreshold',-1)\n"
   ]
  },
  {
   "cell_type": "code",
   "execution_count": 18,
   "id": "99862f47-524a-47f6-b9d2-2dedf417a9d7",
   "metadata": {},
   "outputs": [],
   "source": [
    "ppl.join(df,ppl.pcode==df.zipcode).write.format('noop').mode('append').save(r'C:\\Users\\Krishna\\data\\aug2025')"
   ]
  },
  {
   "cell_type": "code",
   "execution_count": 13,
   "id": "638146ba-1594-4f0d-8a24-b5a26cbe04e7",
   "metadata": {},
   "outputs": [
    {
     "name": "stdout",
     "output_type": "stream",
     "text": [
      "== Physical Plan ==\n",
      "*(2) BroadcastHashJoin [pcode#123], [zipcode#8], Inner, BuildLeft, false\n",
      ":- BroadcastExchange HashedRelationBroadcastMode(List(input[2, string, false]),false), [plan_id=158]\n",
      ":  +- *(1) Filter isnotnull(pcode#123)\n",
      ":     +- FileScan json [age#121L,name#122,pcode#123] Batched: false, DataFilters: [isnotnull(pcode#123)], Format: JSON, Location: InMemoryFileIndex(1 paths)[file:/C:/Users/Krishna/data/people.json], PartitionFilters: [], PushedFilters: [IsNotNull(pcode)], ReadSchema: struct<age:bigint,name:string,pcode:string>\n",
      "+- *(2) Filter isnotnull(zipcode#8)\n",
      "   +- *(2) ColumnarToRow\n",
      "      +- FileScan parquet [acct_num#0,acct_create_dt#1L,acct_close_dt#2L,first_name#3,last_name#4,address#5,city#6,state#7,zipcode#8,phone_number#9,created#10L,modified#11L] Batched: true, DataFilters: [isnotnull(zipcode#8)], Format: Parquet, Location: InMemoryFileIndex(1 paths)[file:/C:/Users/Krishna/data/accounts_parquet/accounts_parquet], PartitionFilters: [], PushedFilters: [IsNotNull(zipcode)], ReadSchema: struct<acct_num:int,acct_create_dt:bigint,acct_close_dt:bigint,first_name:string,last_name:string...\n",
      "\n",
      "\n"
     ]
    }
   ],
   "source": [
    "ppl.join(df,ppl.pcode==df.zipcode).explain(False)"
   ]
  },
  {
   "cell_type": "code",
   "execution_count": 15,
   "id": "7a717746-7c99-444e-b0d7-5744d54e8f49",
   "metadata": {},
   "outputs": [
    {
     "data": {
      "text/plain": [
       "'False'"
      ]
     },
     "execution_count": 15,
     "metadata": {},
     "output_type": "execute_result"
    }
   ],
   "source": [
    "spark.conf.get(\"spark.sql.adaptive.enabled\",'False')\n"
   ]
  },
  {
   "cell_type": "code",
   "execution_count": 20,
   "id": "08a24939-b21e-40b2-8778-614fecb86555",
   "metadata": {},
   "outputs": [],
   "source": [
    "spark.conf.set('spark.sql.cbo.enabled',True)"
   ]
  },
  {
   "cell_type": "code",
   "execution_count": 21,
   "id": "699caf0c-a228-48b4-93fe-ee65c1e535ef",
   "metadata": {},
   "outputs": [
    {
     "name": "stdout",
     "output_type": "stream",
     "text": [
      "+-------------+-----+\n",
      "|         city|count|\n",
      "+-------------+-----+\n",
      "|      Phoenix| 3142|\n",
      "|    Palo Alto| 1372|\n",
      "|      Anaheim| 1182|\n",
      "|      Oakland| 2718|\n",
      "|  Bakersfield| 2290|\n",
      "|         Bend| 1139|\n",
      "|  Los Angeles| 2239|\n",
      "|    Flagstaff|  804|\n",
      "|   Sacramento| 5318|\n",
      "|    Pendleton| 1096|\n",
      "|     Industry| 1115|\n",
      "|San Francisco| 2620|\n",
      "|    San Diego| 3478|\n",
      "|      Medford| 1116|\n",
      "|   Santa Rosa| 2555|\n",
      "|     Portland| 3432|\n",
      "|      Redding| 1223|\n",
      "|      Burbank| 1129|\n",
      "|  Carson City|  996|\n",
      "|     Van Nuys| 2243|\n",
      "+-------------+-----+\n",
      "only showing top 20 rows\n",
      "\n"
     ]
    }
   ],
   "source": [
    "df.groupby('city').count().show()"
   ]
  },
  {
   "cell_type": "code",
   "execution_count": 22,
   "id": "f83d725a-f287-4420-94b1-a32f960a3689",
   "metadata": {},
   "outputs": [
    {
     "name": "stdout",
     "output_type": "stream",
     "text": [
      "root\n",
      " |-- acct_num: integer (nullable = true)\n",
      " |-- acct_create_dt: long (nullable = true)\n",
      " |-- acct_close_dt: long (nullable = true)\n",
      " |-- first_name: string (nullable = true)\n",
      " |-- last_name: string (nullable = true)\n",
      " |-- address: string (nullable = true)\n",
      " |-- city: string (nullable = true)\n",
      " |-- state: string (nullable = true)\n",
      " |-- zipcode: string (nullable = true)\n",
      " |-- phone_number: string (nullable = true)\n",
      " |-- created: long (nullable = true)\n",
      " |-- modified: long (nullable = true)\n",
      "\n"
     ]
    }
   ],
   "source": [
    "df.printSchema()"
   ]
  },
  {
   "cell_type": "code",
   "execution_count": 25,
   "id": "02f0e1b6-6cd6-4078-a497-680f92ee5c61",
   "metadata": {},
   "outputs": [
    {
     "data": {
      "text/plain": [
       "97320"
      ]
     },
     "execution_count": 25,
     "metadata": {},
     "output_type": "execute_result"
    }
   ],
   "source": [
    "df.select('acct_num').distinct().count()"
   ]
  },
  {
   "cell_type": "code",
   "execution_count": 27,
   "id": "4bf47629-0028-4f6c-b481-e0cac0656b33",
   "metadata": {},
   "outputs": [
    {
     "name": "stdout",
     "output_type": "stream",
     "text": [
      "+--------+---+\n",
      "|acct_num|cnt|\n",
      "+--------+---+\n",
      "|    3749|  1|\n",
      "|   37263|  1|\n",
      "|   96853|  1|\n",
      "|   10817|  1|\n",
      "|   96393|  1|\n",
      "|   62985|  1|\n",
      "|   74904|  1|\n",
      "|   53565|  1|\n",
      "|   61051|  1|\n",
      "|    7340|  1|\n",
      "|   89574|  1|\n",
      "|   38422|  1|\n",
      "|    5156|  1|\n",
      "|   11858|  1|\n",
      "|   27484|  1|\n",
      "|   92959|  1|\n",
      "|   33722|  1|\n",
      "|   45307|  1|\n",
      "|   56110|  1|\n",
      "|   18498|  1|\n",
      "+--------+---+\n",
      "only showing top 20 rows\n",
      "\n"
     ]
    }
   ],
   "source": [
    "df.groupby('acct_num').agg(countDistinct('city').alias('cnt')).show()"
   ]
  },
  {
   "cell_type": "code",
   "execution_count": 29,
   "id": "96c0fe5e-79f3-4f50-8a2c-2463c5878e3a",
   "metadata": {},
   "outputs": [],
   "source": [
    "df1 = spark.range(4,200,2)\n",
    "df2=spark.range(2,200,4)"
   ]
  },
  {
   "cell_type": "code",
   "execution_count": 40,
   "id": "d5c997b7-443d-49a8-b8c1-869380a4f049",
   "metadata": {},
   "outputs": [],
   "source": [
    "df3=df1.repartition(5)\n",
    "df4=df2.repartition(7)"
   ]
  },
  {
   "cell_type": "code",
   "execution_count": 35,
   "id": "2bb3a9ba-d7ed-406b-8d55-2d599b5622c9",
   "metadata": {},
   "outputs": [
    {
     "data": {
      "text/plain": [
       "7"
      ]
     },
     "execution_count": 35,
     "metadata": {},
     "output_type": "execute_result"
    }
   ],
   "source": [
    "df2.rdd.getNumPartitions()"
   ]
  },
  {
   "cell_type": "code",
   "execution_count": 36,
   "id": "8eecead2-6765-4a2a-b9d7-b1ca5022c3b9",
   "metadata": {},
   "outputs": [
    {
     "name": "stdout",
     "output_type": "stream",
     "text": [
      "root\n",
      " |-- id: long (nullable = false)\n",
      "\n"
     ]
    }
   ],
   "source": [
    "df1.printSchema()"
   ]
  },
  {
   "cell_type": "code",
   "execution_count": 41,
   "id": "e13b9767-590f-4f0c-bc4b-7a7489170ad6",
   "metadata": {},
   "outputs": [],
   "source": [
    "dfj = df3.join(df4,'id')"
   ]
  },
  {
   "cell_type": "code",
   "execution_count": 42,
   "id": "4f833d3a-db6b-49de-8694-63cef7abb75f",
   "metadata": {},
   "outputs": [],
   "source": [
    "dfres= dfj.selectExpr('sum(id) as cnt')"
   ]
  },
  {
   "cell_type": "code",
   "execution_count": 43,
   "id": "bb0b3b14-695d-4760-8c07-36b94bf23a76",
   "metadata": {},
   "outputs": [
    {
     "name": "stdout",
     "output_type": "stream",
     "text": [
      "+----+\n",
      "| cnt|\n",
      "+----+\n",
      "|4998|\n",
      "+----+\n",
      "\n"
     ]
    }
   ],
   "source": [
    "dfres.show()"
   ]
  },
  {
   "cell_type": "code",
   "execution_count": 44,
   "id": "2869cda4-2140-4011-803a-a0e33b2fe45c",
   "metadata": {},
   "outputs": [
    {
     "name": "stdout",
     "output_type": "stream",
     "text": [
      "== Physical Plan ==\n",
      "*(4) HashAggregate(keys=[], functions=[sum(id#426L)])\n",
      "+- Exchange SinglePartition, ENSURE_REQUIREMENTS, [plan_id=681]\n",
      "   +- *(3) HashAggregate(keys=[], functions=[partial_sum(id#426L)])\n",
      "      +- *(3) Project [id#426L]\n",
      "         +- *(3) BroadcastHashJoin [id#426L], [id#428L], Inner, BuildRight, false\n",
      "            :- Exchange RoundRobinPartitioning(5), REPARTITION_BY_NUM, [plan_id=671]\n",
      "            :  +- *(1) Range (4, 200, step=2, splits=1)\n",
      "            +- BroadcastExchange HashedRelationBroadcastMode(List(input[0, bigint, false]),false), [plan_id=675]\n",
      "               +- Exchange RoundRobinPartitioning(7), REPARTITION_BY_NUM, [plan_id=674]\n",
      "                  +- *(2) Range (2, 200, step=4, splits=1)\n",
      "\n",
      "\n"
     ]
    }
   ],
   "source": [
    "dfres.explain()"
   ]
  },
  {
   "cell_type": "code",
   "execution_count": 45,
   "id": "8237efb1-2c3d-4427-97a3-f95a710a04c6",
   "metadata": {},
   "outputs": [
    {
     "name": "stdout",
     "output_type": "stream",
     "text": [
      "+---+\n",
      "| id|\n",
      "+---+\n",
      "|104|\n",
      "| 26|\n",
      "| 22|\n",
      "|160|\n",
      "| 74|\n",
      "|122|\n",
      "| 64|\n",
      "|114|\n",
      "|190|\n",
      "|182|\n",
      "| 56|\n",
      "|188|\n",
      "|118|\n",
      "| 72|\n",
      "|154|\n",
      "| 36|\n",
      "|158|\n",
      "| 24|\n",
      "| 48|\n",
      "|174|\n",
      "+---+\n",
      "only showing top 20 rows\n",
      "\n"
     ]
    }
   ],
   "source": [
    "df3.union(df4).show()"
   ]
  },
  {
   "cell_type": "code",
   "execution_count": null,
   "id": "8d4c467c-56ac-4d00-aa5b-9df5bda14523",
   "metadata": {},
   "outputs": [],
   "source": []
  }
 ],
 "metadata": {
  "kernelspec": {
   "display_name": "Python (spark39)",
   "language": "python",
   "name": "spark39"
  },
  "language_info": {
   "codemirror_mode": {
    "name": "ipython",
    "version": 3
   },
   "file_extension": ".py",
   "mimetype": "text/x-python",
   "name": "python",
   "nbconvert_exporter": "python",
   "pygments_lexer": "ipython3",
   "version": "3.9.23"
  }
 },
 "nbformat": 4,
 "nbformat_minor": 5
}
