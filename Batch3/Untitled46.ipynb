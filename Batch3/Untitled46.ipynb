{
 "cells": [
  {
   "cell_type": "code",
   "execution_count": 1,
   "id": "f76b0e53-8cf2-4f16-8119-b57f4183993d",
   "metadata": {},
   "outputs": [],
   "source": [
    "from pyspark.sql import SparkSession"
   ]
  },
  {
   "cell_type": "code",
   "execution_count": 2,
   "id": "f076be51-5dda-4fbe-bd92-cab864e755e0",
   "metadata": {},
   "outputs": [],
   "source": [
    "spark = SparkSession.builder.appName('watermark').master('local[2]').getOrCreate()"
   ]
  },
  {
   "cell_type": "code",
   "execution_count": 3,
   "id": "21214f07-aae8-4e98-b3cb-f685c927d6b7",
   "metadata": {},
   "outputs": [
    {
     "data": {
      "text/html": [
       "\n",
       "            <div>\n",
       "                <p><b>SparkSession - in-memory</b></p>\n",
       "                \n",
       "        <div>\n",
       "            <p><b>SparkContext</b></p>\n",
       "\n",
       "            <p><a href=\"http://DESKTOP-K50IMNA:4041\">Spark UI</a></p>\n",
       "\n",
       "            <dl>\n",
       "              <dt>Version</dt>\n",
       "                <dd><code>v3.3.2</code></dd>\n",
       "              <dt>Master</dt>\n",
       "                <dd><code>local[2]</code></dd>\n",
       "              <dt>AppName</dt>\n",
       "                <dd><code>watermark</code></dd>\n",
       "            </dl>\n",
       "        </div>\n",
       "        \n",
       "            </div>\n",
       "        "
      ],
      "text/plain": [
       "<pyspark.sql.session.SparkSession at 0x1f21e83c8e0>"
      ]
     },
     "execution_count": 3,
     "metadata": {},
     "output_type": "execute_result"
    }
   ],
   "source": [
    "spark"
   ]
  },
  {
   "cell_type": "code",
   "execution_count": 4,
   "id": "63bc2e3c-a215-4705-b001-33347e048005",
   "metadata": {},
   "outputs": [],
   "source": [
    "df = spark.readStream.format('socket').option('host','localhost')\\\n",
    ".option('port',9999).load()"
   ]
  },
  {
   "cell_type": "code",
   "execution_count": 5,
   "id": "795330d5-5937-4ecf-be05-667857634aae",
   "metadata": {},
   "outputs": [
    {
     "name": "stdout",
     "output_type": "stream",
     "text": [
      "root\n",
      " |-- value: string (nullable = true)\n",
      "\n"
     ]
    }
   ],
   "source": [
    "df.printSchema()"
   ]
  },
  {
   "cell_type": "code",
   "execution_count": 6,
   "id": "bf60ac5e-04cc-47c5-a015-5bd543b8c3c9",
   "metadata": {},
   "outputs": [],
   "source": [
    "from pyspark.sql.functions import *\n",
    "from pyspark.sql.types import *"
   ]
  },
  {
   "cell_type": "code",
   "execution_count": 7,
   "id": "024f25aa-15f7-48ed-9512-5e96e30168fd",
   "metadata": {},
   "outputs": [],
   "source": [
    "df1 = df.select(split('value',',').alias('data'))"
   ]
  },
  {
   "cell_type": "code",
   "execution_count": 8,
   "id": "70c43048-fff9-4499-b7f3-2544af17b077",
   "metadata": {},
   "outputs": [
    {
     "name": "stdout",
     "output_type": "stream",
     "text": [
      "root\n",
      " |-- data: array (nullable = true)\n",
      " |    |-- element: string (containsNull = false)\n",
      "\n"
     ]
    }
   ],
   "source": [
    "df1.printSchema()"
   ]
  },
  {
   "cell_type": "code",
   "execution_count": 9,
   "id": "1219dba4-a0e2-4032-a901-f09aca3d5995",
   "metadata": {},
   "outputs": [],
   "source": [
    "df2 = df1.select(df1.data[0].cast(TimestampType()).alias('ts'),df1.data[1].alias('name'))"
   ]
  },
  {
   "cell_type": "code",
   "execution_count": 10,
   "id": "f7a5553c-f4c0-422e-b8fd-b622efe309b1",
   "metadata": {},
   "outputs": [
    {
     "name": "stdout",
     "output_type": "stream",
     "text": [
      "root\n",
      " |-- ts: timestamp (nullable = true)\n",
      " |-- name: string (nullable = true)\n",
      "\n"
     ]
    }
   ],
   "source": [
    "df2.printSchema()"
   ]
  },
  {
   "cell_type": "code",
   "execution_count": 11,
   "id": "84aa124f-7601-476b-ba6a-23a17a212a81",
   "metadata": {},
   "outputs": [],
   "source": [
    "#res = df2.groupby(window('ts','10 minutes'),'name').count()"
   ]
  },
  {
   "cell_type": "code",
   "execution_count": 12,
   "id": "0298ea91-586f-44a2-b428-0bd758f8e29d",
   "metadata": {},
   "outputs": [],
   "source": [
    "#res.printSchema()"
   ]
  },
  {
   "cell_type": "code",
   "execution_count": 13,
   "id": "fb110854-6f0d-4685-b2fc-ba43e0e9f165",
   "metadata": {},
   "outputs": [],
   "source": [
    "#res= res.select(\"window.start\",\"window.end\",\"name\",\"count\")"
   ]
  },
  {
   "cell_type": "code",
   "execution_count": 14,
   "id": "84c7341c-c7e5-42b6-b6f9-b3134cc2b4ad",
   "metadata": {},
   "outputs": [],
   "source": [
    "#res.printSchema()"
   ]
  },
  {
   "cell_type": "code",
   "execution_count": 15,
   "id": "0c43e884-b17a-4806-a9e0-bd725d5dde36",
   "metadata": {},
   "outputs": [],
   "source": [
    "#res.writeStream.format('console').outputMode('update').trigger(processingTime=\"5 minutes\").start().awaitTermination()"
   ]
  },
  {
   "cell_type": "code",
   "execution_count": null,
   "id": "60337841-c95f-4e87-b156-ba754d12c47d",
   "metadata": {},
   "outputs": [],
   "source": [
    "res = df2.withWatermark('ts','2 minutes').groupby(window('ts','2 minutes'),'name').count()"
   ]
  },
  {
   "cell_type": "code",
   "execution_count": 17,
   "id": "fa38bc0a-1706-45e8-8780-1fdc10cb38c7",
   "metadata": {},
   "outputs": [
    {
     "name": "stdout",
     "output_type": "stream",
     "text": [
      "root\n",
      " |-- window: struct (nullable = false)\n",
      " |    |-- start: timestamp (nullable = true)\n",
      " |    |-- end: timestamp (nullable = true)\n",
      " |-- name: string (nullable = true)\n",
      " |-- count: long (nullable = false)\n",
      "\n"
     ]
    }
   ],
   "source": [
    "res.printSchema()"
   ]
  },
  {
   "cell_type": "code",
   "execution_count": null,
   "id": "58e55f88-eeb5-46cb-9d33-74d336d3d528",
   "metadata": {},
   "outputs": [],
   "source": [
    "res= res.select(\"window.start\",\"window.end\",\"name\",\"count\")"
   ]
  },
  {
   "cell_type": "code",
   "execution_count": null,
   "id": "02ec5fda-3c5e-4f5d-9f89-5ab90708db04",
   "metadata": {},
   "outputs": [],
   "source": [
    "res.writeStream.format('console').outputMode('append').trigger(processingTime=\"90 seconds\").start().awaitTermination()"
   ]
  },
  {
   "cell_type": "code",
   "execution_count": null,
   "id": "8f0e923c-699e-4d16-a49e-052b93532df6",
   "metadata": {},
   "outputs": [],
   "source": []
  }
 ],
 "metadata": {
  "kernelspec": {
   "display_name": "Python (spark39)",
   "language": "python",
   "name": "spark39"
  },
  "language_info": {
   "codemirror_mode": {
    "name": "ipython",
    "version": 3
   },
   "file_extension": ".py",
   "mimetype": "text/x-python",
   "name": "python",
   "nbconvert_exporter": "python",
   "pygments_lexer": "ipython3",
   "version": "3.9.23"
  }
 },
 "nbformat": 4,
 "nbformat_minor": 5
}
