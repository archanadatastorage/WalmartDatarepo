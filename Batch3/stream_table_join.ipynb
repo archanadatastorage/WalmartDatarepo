{
 "cells": [
  {
   "cell_type": "code",
   "execution_count": 1,
   "metadata": {},
   "outputs": [],
   "source": [
    "import findspark\n",
    "findspark.init()"
   ]
  },
  {
   "cell_type": "code",
   "execution_count": 2,
   "metadata": {},
   "outputs": [],
   "source": [
    "from pyspark.sql import SparkSession\n",
    "from pyspark.sql.types import *\n",
    "from pyspark.sql.functions import *\n",
    "\n",
    "spark= SparkSession.builder.config(\"spark.jars.packages\",\"mysql:mysql-connector-java:8.0.28\").getOrCreate()"
   ]
  },
  {
   "cell_type": "code",
   "execution_count": 3,
   "metadata": {},
   "outputs": [
    {
     "name": "stdout",
     "output_type": "stream",
     "text": [
      "+-----------+-----------+----------+--------+------------+----------+----------+--------+--------------+----------+-------------+\n",
      "|employee_id| first_name| last_name|   email|phone_number| hire_date|    job_id|  salary|commission_pct|manager_id|department_id|\n",
      "+-----------+-----------+----------+--------+------------+----------+----------+--------+--------------+----------+-------------+\n",
      "|        100|     Steven|      King|   SKING|515.123.4567|1987-06-17|   AD_PRES|24000.00|          null|      null|           90|\n",
      "|        101|      Neena|   Kochhar|NKOCHHAR|515.123.4568|1989-09-21|     AD_VP|17000.00|          null|       100|           90|\n",
      "|        102|        Lex|   De Haan| LDEHAAN|515.123.4569|1993-01-13|     AD_VP|17000.00|          null|       100|           90|\n",
      "|        103|  Alexander|    Hunold| AHUNOLD|590.423.4567|1990-01-03|   IT_PROG| 9000.00|          null|       102|           60|\n",
      "|        104|      Bruce|     Ernst|  BERNST|590.423.4568|1991-05-21|   IT_PROG| 6000.00|          null|       103|           60|\n",
      "|        105|      David|    Austin| DAUSTIN|590.423.4569|1997-06-25|   IT_PROG| 4800.00|          null|       103|           60|\n",
      "|        106|      Valli| Pataballa|VPATABAL|590.423.4560|1998-02-05|   IT_PROG| 4800.00|          null|       103|           60|\n",
      "|        107|      Diana|   Lorentz|DLORENTZ|590.423.5567|1999-02-07|   IT_PROG| 4200.00|          null|       103|           60|\n",
      "|        108|      Nancy| Greenberg|NGREENBE|515.124.4569|1994-08-17|    FI_MGR|12000.00|          null|       101|          100|\n",
      "|        109|     Daniel|    Faviet| DFAVIET|515.124.4169|1994-08-16|FI_ACCOUNT| 9000.00|          null|       108|          100|\n",
      "|        110|       John|      Chen|   JCHEN|515.124.4269|1997-09-28|FI_ACCOUNT| 8200.00|          null|       108|          100|\n",
      "|        111|     Ismael|   Sciarra|ISCIARRA|515.124.4369|1997-09-30|FI_ACCOUNT| 7700.00|          null|       108|          100|\n",
      "|        112|Jose Manuel|     Urman| JMURMAN|515.124.4469|1998-03-07|FI_ACCOUNT| 7800.00|          null|       108|          100|\n",
      "|        113|       Luis|      Popp|   LPOPP|515.124.4567|1999-12-07|FI_ACCOUNT| 6900.00|          null|       108|          100|\n",
      "|        114|        Den|  Raphaely|DRAPHEAL|515.127.4561|1994-12-07|    PU_MAN|11000.00|          null|       100|           30|\n",
      "|        115|  Alexander|      Khoo|   AKHOO|515.127.4562|1995-05-18|  PU_CLERK| 3100.00|          null|       114|           30|\n",
      "|        116|     Shelli|     Baida|  SBAIDA|515.127.4563|1997-12-24|  PU_CLERK| 2900.00|          null|       114|           30|\n",
      "|        117|      Sigal|    Tobias| STOBIAS|515.127.4564|1997-07-24|  PU_CLERK| 2800.00|          null|       114|           30|\n",
      "|        118|        Guy|    Himuro| GHIMURO|515.127.4565|1998-11-15|  PU_CLERK| 2600.00|          null|       114|           30|\n",
      "|        119|      Karen|Colmenares|KCOLMENA|515.127.4566|1999-08-10|  PU_CLERK| 2500.00|          null|       114|           30|\n",
      "+-----------+-----------+----------+--------+------------+----------+----------+--------+--------------+----------+-------------+\n",
      "only showing top 20 rows\n",
      "\n"
     ]
    }
   ],
   "source": [
    "emp = spark.read.format(\"jdbc\").option(\"url\",\"jdbc:mysql://localhost:3306/hr_db\").option(\"driver\",\"com.mysql.cj.jdbc.Driver\").option(\"user\",\"root\").option(\"password\",\"Itversity2022\").option(\"dbtable\",\"employees\").load()\n",
    "emp.show()"
   ]
  },
  {
   "cell_type": "code",
   "execution_count": 4,
   "metadata": {},
   "outputs": [
    {
     "name": "stdout",
     "output_type": "stream",
     "text": [
      "root\n",
      " |-- employee_id: integer (nullable = true)\n",
      " |-- first_name: string (nullable = true)\n",
      " |-- last_name: string (nullable = true)\n",
      " |-- email: string (nullable = true)\n",
      " |-- phone_number: string (nullable = true)\n",
      " |-- hire_date: date (nullable = true)\n",
      " |-- job_id: string (nullable = true)\n",
      " |-- salary: decimal(8,2) (nullable = true)\n",
      " |-- commission_pct: decimal(2,2) (nullable = true)\n",
      " |-- manager_id: integer (nullable = true)\n",
      " |-- department_id: integer (nullable = true)\n",
      "\n"
     ]
    }
   ],
   "source": [
    "emp.printSchema()"
   ]
  },
  {
   "cell_type": "code",
   "execution_count": 4,
   "metadata": {},
   "outputs": [],
   "source": [
    "sch = StructType([StructField(\"department_id\",IntegerType(),True),StructField(\"managerId\",StringType(),True),StructField(\"locationId\",IntegerType(),True)])"
   ]
  },
  {
   "cell_type": "code",
   "execution_count": 5,
   "metadata": {},
   "outputs": [],
   "source": [
    "df = spark.readStream.format(\"socket\").option(\"host\",\"localhost\").option(\"port\",2222).load()"
   ]
  },
  {
   "cell_type": "code",
   "execution_count": 8,
   "metadata": {},
   "outputs": [
    {
     "name": "stdout",
     "output_type": "stream",
     "text": [
      "root\n",
      " |-- value: string (nullable = true)\n",
      "\n"
     ]
    }
   ],
   "source": [
    "df.printSchema()"
   ]
  },
  {
   "cell_type": "code",
   "execution_count": 6,
   "metadata": {},
   "outputs": [],
   "source": [
    "valueDF = df.select(from_json(col(\"value\").cast(\"string\"), sch).alias(\"value\"))"
   ]
  },
  {
   "cell_type": "code",
   "execution_count": 10,
   "metadata": {},
   "outputs": [
    {
     "name": "stdout",
     "output_type": "stream",
     "text": [
      "root\n",
      " |-- value: struct (nullable = true)\n",
      " |    |-- department_id: integer (nullable = true)\n",
      " |    |-- managerId: string (nullable = true)\n",
      " |    |-- locationId: integer (nullable = true)\n",
      "\n"
     ]
    }
   ],
   "source": [
    "valueDF.printSchema()"
   ]
  },
  {
   "cell_type": "code",
   "execution_count": 7,
   "metadata": {},
   "outputs": [],
   "source": [
    "tradeDF = valueDF.select(\"value.*\")\n",
    "    "
   ]
  },
  {
   "cell_type": "code",
   "execution_count": 12,
   "metadata": {},
   "outputs": [
    {
     "name": "stdout",
     "output_type": "stream",
     "text": [
      "root\n",
      " |-- department_id: integer (nullable = true)\n",
      " |-- managerId: string (nullable = true)\n",
      " |-- locationId: integer (nullable = true)\n",
      "\n"
     ]
    }
   ],
   "source": [
    "tradeDF.printSchema()"
   ]
  },
  {
   "cell_type": "code",
   "execution_count": 8,
   "metadata": {},
   "outputs": [],
   "source": [
    "j1= emp.join(tradeDF,emp.department_id==tradeDF.department_id,\"inner\")"
   ]
  },
  {
   "cell_type": "code",
   "execution_count": null,
   "metadata": {},
   "outputs": [],
   "source": [
    "j1.writeStream\\\n",
    "      .format(\"console\").outputMode(\"update\")\\\n",
    "      .option(\"checkpointLocation\", \"chk134\").trigger(processingTime='1 minute')\\\n",
    "      .start().awaitTermination()"
   ]
  },
  {
   "cell_type": "code",
   "execution_count": null,
   "metadata": {},
   "outputs": [],
   "source": []
  }
 ],
 "metadata": {
  "kernelspec": {
   "display_name": "Python 3 (ipykernel)",
   "language": "python",
   "name": "python3"
  },
  "language_info": {
   "codemirror_mode": {
    "name": "ipython",
    "version": 3
   },
   "file_extension": ".py",
   "mimetype": "text/x-python",
   "name": "python",
   "nbconvert_exporter": "python",
   "pygments_lexer": "ipython3",
   "version": "3.9.13"
  }
 },
 "nbformat": 4,
 "nbformat_minor": 2
}
