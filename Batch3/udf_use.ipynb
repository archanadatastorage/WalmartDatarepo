{
 "cells": [
  {
   "cell_type": "code",
   "execution_count": 2,
   "id": "7ae49662",
   "metadata": {},
   "outputs": [],
   "source": [
    "import findspark\n",
    "findspark.init()"
   ]
  },
  {
   "cell_type": "code",
   "execution_count": 3,
   "id": "38381b13",
   "metadata": {},
   "outputs": [],
   "source": [
    "from pyspark.sql import SparkSession"
   ]
  },
  {
   "cell_type": "code",
   "execution_count": 4,
   "id": "72568320",
   "metadata": {},
   "outputs": [],
   "source": [
    "spark = SparkSession.builder.master(\"local[2]\").appName(\"stream code\").getOrCreate()"
   ]
  },
  {
   "cell_type": "code",
   "execution_count": 4,
   "id": "7a54fb63",
   "metadata": {},
   "outputs": [],
   "source": [
    "def myfun(x):\n",
    "    return x.upper()"
   ]
  },
  {
   "cell_type": "code",
   "execution_count": 5,
   "id": "bc6995ff",
   "metadata": {},
   "outputs": [
    {
     "data": {
      "text/plain": [
       "'RAM'"
      ]
     },
     "execution_count": 5,
     "metadata": {},
     "output_type": "execute_result"
    }
   ],
   "source": [
    "myfun('ram')"
   ]
  },
  {
   "cell_type": "code",
   "execution_count": 10,
   "id": "cc2e1142",
   "metadata": {},
   "outputs": [],
   "source": [
    "from pyspark.sql.types import StringType\n",
    "from pyspark.sql.functions import *"
   ]
  },
  {
   "cell_type": "code",
   "execution_count": 12,
   "id": "c96f855a",
   "metadata": {},
   "outputs": [],
   "source": [
    "myuprfun = udf(lambda x:myfun(x),StringType())"
   ]
  },
  {
   "cell_type": "code",
   "execution_count": 13,
   "id": "cd76a3ec",
   "metadata": {},
   "outputs": [],
   "source": [
    "fun1 = udf(lambda x: myfun(x))"
   ]
  },
  {
   "cell_type": "code",
   "execution_count": 5,
   "id": "08b8bccd",
   "metadata": {},
   "outputs": [],
   "source": [
    "df = spark.read.format(\"json\").load(\"C:\\\\Users\\\\Krishna\\\\data\\\\people.json\")"
   ]
  },
  {
   "cell_type": "code",
   "execution_count": 15,
   "id": "f063540e",
   "metadata": {},
   "outputs": [
    {
     "name": "stdout",
     "output_type": "stream",
     "text": [
      "+----+-------+-----+\n",
      "| age|   name|pcode|\n",
      "+----+-------+-----+\n",
      "|null|  Alice|94304|\n",
      "|  30|Brayden|94304|\n",
      "|  19|  Carla|10036|\n",
      "|  46|  Diana| null|\n",
      "|null|Etienne|94104|\n",
      "+----+-------+-----+\n",
      "\n"
     ]
    }
   ],
   "source": [
    "df.show()\n"
   ]
  },
  {
   "cell_type": "code",
   "execution_count": 16,
   "id": "0d2d3d97",
   "metadata": {},
   "outputs": [
    {
     "name": "stdout",
     "output_type": "stream",
     "text": [
      "+----+-------+-----+----------+\n",
      "| age|   name|pcode|changecase|\n",
      "+----+-------+-----+----------+\n",
      "|null|  Alice|94304|     ALICE|\n",
      "|  30|Brayden|94304|   BRAYDEN|\n",
      "|  19|  Carla|10036|     CARLA|\n",
      "|  46|  Diana| null|     DIANA|\n",
      "|null|Etienne|94104|   ETIENNE|\n",
      "+----+-------+-----+----------+\n",
      "\n"
     ]
    }
   ],
   "source": [
    "df.withColumn(\"changecase\",fun1(\"name\")).show()"
   ]
  },
  {
   "cell_type": "code",
   "execution_count": 17,
   "id": "71d859a2",
   "metadata": {},
   "outputs": [
    {
     "name": "stdout",
     "output_type": "stream",
     "text": [
      "+----+-------+-----+----------+\n",
      "| age|   name|pcode|changecase|\n",
      "+----+-------+-----+----------+\n",
      "|null|  Alice|94304|     ALICE|\n",
      "|  30|Brayden|94304|   BRAYDEN|\n",
      "|  19|  Carla|10036|     CARLA|\n",
      "|  46|  Diana| null|     DIANA|\n",
      "|null|Etienne|94104|   ETIENNE|\n",
      "+----+-------+-----+----------+\n",
      "\n"
     ]
    }
   ],
   "source": [
    "df.withColumn(\"changecase\",myuprfun(\"name\")).show()"
   ]
  },
  {
   "cell_type": "code",
   "execution_count": 28,
   "id": "65e720a2",
   "metadata": {},
   "outputs": [],
   "source": [
    "strlen = spark.udf.register(\"stringLengthString\", lambda x: len(x))"
   ]
  },
  {
   "cell_type": "code",
   "execution_count": 29,
   "id": "e7444b5d",
   "metadata": {},
   "outputs": [],
   "source": [
    "strlen = spark.udf.register(\"f1\", lambda x: myfun(x))"
   ]
  },
  {
   "cell_type": "code",
   "execution_count": 30,
   "id": "6dd14282",
   "metadata": {},
   "outputs": [],
   "source": [
    "df.createTempView(\"people\")"
   ]
  },
  {
   "cell_type": "code",
   "execution_count": 31,
   "id": "d7b75861",
   "metadata": {},
   "outputs": [
    {
     "name": "stdout",
     "output_type": "stream",
     "text": [
      "+-------+--------+\n",
      "|   name|f1(name)|\n",
      "+-------+--------+\n",
      "|  Alice|   ALICE|\n",
      "|Brayden| BRAYDEN|\n",
      "|  Carla|   CARLA|\n",
      "|  Diana|   DIANA|\n",
      "|Etienne| ETIENNE|\n",
      "+-------+--------+\n",
      "\n"
     ]
    }
   ],
   "source": [
    "spark.sql(\"select name,f1(name) from people\").show()"
   ]
  },
  {
   "cell_type": "code",
   "execution_count": 6,
   "id": "bf169b33",
   "metadata": {},
   "outputs": [
    {
     "data": {
      "text/plain": [
       "<AxesSubplot:>"
      ]
     },
     "execution_count": 6,
     "metadata": {},
     "output_type": "execute_result"
    },
    {
     "data": {
      "image/png": "[encoded data removed]",
      "text/plain": [
       "<Figure size 640x480 with 1 Axes>"
      ]
     },
     "metadata": {},
     "output_type": "display_data"
    }
   ],
   "source": [
    "#UDAF\n",
    "data = [(1, \"A\"), (2, \"A\"), (3, \"A\"),\n",
    "        (4, \"B\"), (5, \"B\"), (6, \"B\")]\n",
    "df = spark.createDataFrame(data, [\"value\", \"category\"])\n",
    "\n",
    "df.show()"
   ]
  },
  {
   "cell_type": "code",
   "execution_count": null,
   "id": "6aa51bf9",
   "metadata": {},
   "outputs": [],
   "source": []
  },
  {
   "cell_type": "code",
   "execution_count": null,
   "id": "a30ccd32",
   "metadata": {},
   "outputs": [],
   "source": []
  }
 ],
 "metadata": {
  "kernelspec": {
   "display_name": "Python 3 (ipykernel)",
   "language": "python",
   "name": "python3"
  },
  "language_info": {
   "codemirror_mode": {
    "name": "ipython",
    "version": 3
   },
   "file_extension": ".py",
   "mimetype": "text/x-python",
   "name": "python",
   "nbconvert_exporter": "python",
   "pygments_lexer": "ipython3",
   "version": "3.9.13"
  }
 },
 "nbformat": 4,
 "nbformat_minor": 5
}
