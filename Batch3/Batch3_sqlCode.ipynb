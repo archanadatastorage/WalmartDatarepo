{
 "cells": [
  {
   "cell_type": "code",
   "execution_count": 1,
   "id": "37ea00e5",
   "metadata": {},
   "outputs": [],
   "source": [
    "import findspark\n",
    "findspark.init()"
   ]
  },
  {
   "cell_type": "code",
   "execution_count": 2,
   "id": "762f2d80",
   "metadata": {},
   "outputs": [],
   "source": [
    "from pyspark.sql import SparkSession"
   ]
  },
  {
   "cell_type": "code",
   "execution_count": 4,
   "id": "39f17830",
   "metadata": {},
   "outputs": [],
   "source": [
    "spark = SparkSession.builder.master('local[2]').appName('firstcode').getOrCreate()"
   ]
  },
  {
   "cell_type": "code",
   "execution_count": 5,
   "id": "a55e3f30",
   "metadata": {},
   "outputs": [
    {
     "data": {
      "text/html": [
       "\n",
       "            <div>\n",
       "                <p><b>SparkSession - in-memory</b></p>\n",
       "                \n",
       "        <div>\n",
       "            <p><b>SparkContext</b></p>\n",
       "\n",
       "            <p><a href=\"http://DESKTOP-K50IMNA:4041\">Spark UI</a></p>\n",
       "\n",
       "            <dl>\n",
       "              <dt>Version</dt>\n",
       "                <dd><code>v3.2.4</code></dd>\n",
       "              <dt>Master</dt>\n",
       "                <dd><code>local[2]</code></dd>\n",
       "              <dt>AppName</dt>\n",
       "                <dd><code>firstcode</code></dd>\n",
       "            </dl>\n",
       "        </div>\n",
       "        \n",
       "            </div>\n",
       "        "
      ],
      "text/plain": [
       "<pyspark.sql.session.SparkSession at 0x14b8a8b3d90>"
      ]
     },
     "execution_count": 5,
     "metadata": {},
     "output_type": "execute_result"
    }
   ],
   "source": [
    "spark"
   ]
  },
  {
   "cell_type": "code",
   "execution_count": 6,
   "id": "50a319bd",
   "metadata": {},
   "outputs": [],
   "source": [
    "ppl = spark.read.json(r'C:\\Users\\Krishna\\data\\people.json')"
   ]
  },
  {
   "cell_type": "code",
   "execution_count": 7,
   "id": "42339fb5",
   "metadata": {},
   "outputs": [
    {
     "data": {
      "text/plain": [
       "pyspark.sql.dataframe.DataFrame"
      ]
     },
     "execution_count": 7,
     "metadata": {},
     "output_type": "execute_result"
    }
   ],
   "source": [
    "type(ppl)"
   ]
  },
  {
   "cell_type": "code",
   "execution_count": 8,
   "id": "f1f7b944",
   "metadata": {},
   "outputs": [
    {
     "name": "stdout",
     "output_type": "stream",
     "text": [
      "root\n",
      " |-- age: long (nullable = true)\n",
      " |-- name: string (nullable = true)\n",
      " |-- pcode: string (nullable = true)\n",
      "\n"
     ]
    }
   ],
   "source": [
    "ppl.printSchema()"
   ]
  },
  {
   "cell_type": "code",
   "execution_count": 9,
   "id": "0fb8cc6f",
   "metadata": {},
   "outputs": [
    {
     "data": {
      "text/plain": [
       "['age', 'name', 'pcode']"
      ]
     },
     "execution_count": 9,
     "metadata": {},
     "output_type": "execute_result"
    }
   ],
   "source": [
    "ppl.columns"
   ]
  },
  {
   "cell_type": "code",
   "execution_count": 10,
   "id": "b063260e",
   "metadata": {},
   "outputs": [
    {
     "data": {
      "text/plain": [
       "StructType(List(StructField(age,LongType,true),StructField(name,StringType,true),StructField(pcode,StringType,true)))"
      ]
     },
     "execution_count": 10,
     "metadata": {},
     "output_type": "execute_result"
    }
   ],
   "source": [
    "ppl.schema"
   ]
  },
  {
   "cell_type": "code",
   "execution_count": 11,
   "id": "914012c6",
   "metadata": {},
   "outputs": [
    {
     "name": "stdout",
     "output_type": "stream",
     "text": [
      "+----+-------+-----+\n",
      "| age|   name|pcode|\n",
      "+----+-------+-----+\n",
      "|null|  Alice|94304|\n",
      "|  30|Brayden|94304|\n",
      "|  19|  Carla|10036|\n",
      "|  46|  Diana| null|\n",
      "|null|Etienne|94104|\n",
      "+----+-------+-----+\n",
      "\n"
     ]
    }
   ],
   "source": [
    "ppl.show()"
   ]
  },
  {
   "cell_type": "code",
   "execution_count": 12,
   "id": "53f366ab",
   "metadata": {},
   "outputs": [
    {
     "data": {
      "text/plain": [
       "[Row(age=None, name='Alice', pcode='94304'),\n",
       " Row(age=30, name='Brayden', pcode='94304'),\n",
       " Row(age=19, name='Carla', pcode='10036'),\n",
       " Row(age=46, name='Diana', pcode=None),\n",
       " Row(age=None, name='Etienne', pcode='94104')]"
      ]
     },
     "execution_count": 12,
     "metadata": {},
     "output_type": "execute_result"
    }
   ],
   "source": [
    "ppl.collect()"
   ]
  },
  {
   "cell_type": "code",
   "execution_count": 13,
   "id": "8e550206",
   "metadata": {},
   "outputs": [],
   "source": [
    "ppl= spark.read.format('json').load(r'C:\\Users\\Krishna\\data\\people.json')"
   ]
  },
  {
   "cell_type": "code",
   "execution_count": 14,
   "id": "f3721771",
   "metadata": {},
   "outputs": [
    {
     "name": "stdout",
     "output_type": "stream",
     "text": [
      "root\n",
      " |-- age: long (nullable = true)\n",
      " |-- name: string (nullable = true)\n",
      " |-- pcode: string (nullable = true)\n",
      "\n"
     ]
    }
   ],
   "source": [
    "ppl.printSchema()"
   ]
  },
  {
   "cell_type": "code",
   "execution_count": 15,
   "id": "f9973108",
   "metadata": {},
   "outputs": [
    {
     "name": "stdout",
     "output_type": "stream",
     "text": [
      "+----+-------+-----+\n",
      "| age|   name|pcode|\n",
      "+----+-------+-----+\n",
      "|null|  Alice|94304|\n",
      "|  30|Brayden|94304|\n",
      "|  19|  Carla|10036|\n",
      "|  46|  Diana| null|\n",
      "|null|Etienne|94104|\n",
      "+----+-------+-----+\n",
      "\n"
     ]
    }
   ],
   "source": [
    "ppl.show()"
   ]
  },
  {
   "cell_type": "code",
   "execution_count": 18,
   "id": "71f80c15",
   "metadata": {},
   "outputs": [],
   "source": [
    "ppl1= spark.read.format('json').load(r'C:\\Users\\Krishna\\data\\people1.json')"
   ]
  },
  {
   "cell_type": "code",
   "execution_count": 19,
   "id": "23e97d8d",
   "metadata": {},
   "outputs": [
    {
     "name": "stdout",
     "output_type": "stream",
     "text": [
      "root\n",
      " |-- city: string (nullable = true)\n",
      " |-- creditcard: string (nullable = true)\n",
      " |-- email: string (nullable = true)\n",
      " |-- mac: string (nullable = true)\n",
      " |-- name: string (nullable = true)\n",
      " |-- timestamp: string (nullable = true)\n",
      "\n"
     ]
    }
   ],
   "source": [
    "ppl1.printSchema()"
   ]
  },
  {
   "cell_type": "code",
   "execution_count": 20,
   "id": "b6b33c6c",
   "metadata": {},
   "outputs": [
    {
     "data": {
      "text/plain": [
       "10000"
      ]
     },
     "execution_count": 20,
     "metadata": {},
     "output_type": "execute_result"
    }
   ],
   "source": [
    "ppl1.count()"
   ]
  },
  {
   "cell_type": "code",
   "execution_count": 21,
   "id": "46a89a6e",
   "metadata": {},
   "outputs": [],
   "source": [
    "acc_par = spark.read.format('parquet').load(r'C:\\Users\\Krishna\\data\\accounts_parquet\\accounts_parquet')"
   ]
  },
  {
   "cell_type": "code",
   "execution_count": 22,
   "id": "84fcb3cb",
   "metadata": {},
   "outputs": [
    {
     "name": "stdout",
     "output_type": "stream",
     "text": [
      "root\n",
      " |-- acct_num: integer (nullable = true)\n",
      " |-- acct_create_dt: long (nullable = true)\n",
      " |-- acct_close_dt: long (nullable = true)\n",
      " |-- first_name: string (nullable = true)\n",
      " |-- last_name: string (nullable = true)\n",
      " |-- address: string (nullable = true)\n",
      " |-- city: string (nullable = true)\n",
      " |-- state: string (nullable = true)\n",
      " |-- zipcode: string (nullable = true)\n",
      " |-- phone_number: string (nullable = true)\n",
      " |-- created: long (nullable = true)\n",
      " |-- modified: long (nullable = true)\n",
      "\n"
     ]
    }
   ],
   "source": [
    "acc_par.printSchema()"
   ]
  },
  {
   "cell_type": "code",
   "execution_count": 23,
   "id": "0b9b6ff0",
   "metadata": {},
   "outputs": [
    {
     "name": "stdout",
     "output_type": "stream",
     "text": [
      "+--------+--------------+-------------+----------+---------+-------------------+----------+-----+-------+------------+-------------+-------------+\n",
      "|acct_num|acct_create_dt|acct_close_dt|first_name|last_name|            address|      city|state|zipcode|phone_number|      created|     modified|\n",
      "+--------+--------------+-------------+----------+---------+-------------------+----------+-----+-------+------------+-------------+-------------+\n",
      "|   32441| 1341603329000|         null|     Peter|  Zachary| 1891 Jessie Street|Long Beach|   CA|  90743|  5628719002|1395174646000|1395174646000|\n",
      "|   32442| 1345273687000|         null|     Duane|     Ruiz|1023 Simpson Street|  Pasadena|   CA|  91051|  6262472463|1395174646000|1395174646000|\n",
      "+--------+--------------+-------------+----------+---------+-------------------+----------+-----+-------+------------+-------------+-------------+\n",
      "only showing top 2 rows\n",
      "\n"
     ]
    }
   ],
   "source": [
    "acc_par.show(2)"
   ]
  },
  {
   "cell_type": "code",
   "execution_count": 24,
   "id": "612a2892",
   "metadata": {},
   "outputs": [
    {
     "data": {
      "text/plain": [
       "97320"
      ]
     },
     "execution_count": 24,
     "metadata": {},
     "output_type": "execute_result"
    }
   ],
   "source": [
    "acc_par.count()"
   ]
  },
  {
   "cell_type": "code",
   "execution_count": null,
   "id": "e4a9ca8a",
   "metadata": {},
   "outputs": [],
   "source": []
  }
 ],
 "metadata": {
  "kernelspec": {
   "display_name": "Python 3 (ipykernel)",
   "language": "python",
   "name": "python3"
  },
  "language_info": {
   "codemirror_mode": {
    "name": "ipython",
    "version": 3
   },
   "file_extension": ".py",
   "mimetype": "text/x-python",
   "name": "python",
   "nbconvert_exporter": "python",
   "pygments_lexer": "ipython3",
   "version": "3.9.13"
  }
 },
 "nbformat": 4,
 "nbformat_minor": 5
}
