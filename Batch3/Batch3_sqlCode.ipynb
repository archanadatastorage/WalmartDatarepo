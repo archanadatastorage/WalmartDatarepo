{
 "cells": [
  {
   "cell_type": "code",
   "execution_count": 1,
   "id": "37ea00e5",
   "metadata": {},
   "outputs": [],
   "source": [
    "import findspark\n",
    "findspark.init()"
   ]
  },
  {
   "cell_type": "code",
   "execution_count": 2,
   "id": "762f2d80",
   "metadata": {},
   "outputs": [],
   "source": [
    "from pyspark.sql import SparkSession"
   ]
  },
  {
   "cell_type": "code",
   "execution_count": 3,
   "id": "39f17830",
   "metadata": {},
   "outputs": [],
   "source": [
    "spark = SparkSession.builder.master('local[2]').appName('firstcode').getOrCreate()"
   ]
  },
  {
   "cell_type": "code",
   "execution_count": 4,
   "id": "a55e3f30",
   "metadata": {},
   "outputs": [
    {
     "data": {
      "text/html": [
       "\n",
       "            <div>\n",
       "                <p><b>SparkSession - in-memory</b></p>\n",
       "                \n",
       "        <div>\n",
       "            <p><b>SparkContext</b></p>\n",
       "\n",
       "            <p><a href=\"http://DESKTOP-K50IMNA:4040\">Spark UI</a></p>\n",
       "\n",
       "            <dl>\n",
       "              <dt>Version</dt>\n",
       "                <dd><code>v3.2.4</code></dd>\n",
       "              <dt>Master</dt>\n",
       "                <dd><code>local[2]</code></dd>\n",
       "              <dt>AppName</dt>\n",
       "                <dd><code>firstcode</code></dd>\n",
       "            </dl>\n",
       "        </div>\n",
       "        \n",
       "            </div>\n",
       "        "
      ],
      "text/plain": [
       "<pyspark.sql.session.SparkSession at 0x243565dce80>"
      ]
     },
     "execution_count": 4,
     "metadata": {},
     "output_type": "execute_result"
    }
   ],
   "source": [
    "spark"
   ]
  },
  {
   "cell_type": "code",
   "execution_count": 5,
   "id": "7d64b038",
   "metadata": {},
   "outputs": [],
   "source": [
    "spark.sparkContext.setLogLevel('ERROR')"
   ]
  },
  {
   "cell_type": "code",
   "execution_count": 6,
   "id": "50a319bd",
   "metadata": {},
   "outputs": [],
   "source": [
    "ppl = spark.read.json(r'C:\\Users\\Krishna\\data\\people.json')"
   ]
  },
  {
   "cell_type": "code",
   "execution_count": 7,
   "id": "42339fb5",
   "metadata": {},
   "outputs": [
    {
     "data": {
      "text/plain": [
       "pyspark.sql.dataframe.DataFrame"
      ]
     },
     "execution_count": 7,
     "metadata": {},
     "output_type": "execute_result"
    }
   ],
   "source": [
    "type(ppl)"
   ]
  },
  {
   "cell_type": "code",
   "execution_count": 8,
   "id": "f1f7b944",
   "metadata": {},
   "outputs": [
    {
     "name": "stdout",
     "output_type": "stream",
     "text": [
      "root\n",
      " |-- age: long (nullable = true)\n",
      " |-- name: string (nullable = true)\n",
      " |-- pcode: string (nullable = true)\n",
      "\n"
     ]
    }
   ],
   "source": [
    "ppl.printSchema()"
   ]
  },
  {
   "cell_type": "code",
   "execution_count": 9,
   "id": "0fb8cc6f",
   "metadata": {},
   "outputs": [
    {
     "data": {
      "text/plain": [
       "['age', 'name', 'pcode']"
      ]
     },
     "execution_count": 9,
     "metadata": {},
     "output_type": "execute_result"
    }
   ],
   "source": [
    "ppl.columns"
   ]
  },
  {
   "cell_type": "code",
   "execution_count": 10,
   "id": "b063260e",
   "metadata": {},
   "outputs": [
    {
     "data": {
      "text/plain": [
       "StructType(List(StructField(age,LongType,true),StructField(name,StringType,true),StructField(pcode,StringType,true)))"
      ]
     },
     "execution_count": 10,
     "metadata": {},
     "output_type": "execute_result"
    }
   ],
   "source": [
    "ppl.schema"
   ]
  },
  {
   "cell_type": "code",
   "execution_count": 11,
   "id": "914012c6",
   "metadata": {},
   "outputs": [
    {
     "name": "stdout",
     "output_type": "stream",
     "text": [
      "+----+-------+-----+\n",
      "| age|   name|pcode|\n",
      "+----+-------+-----+\n",
      "|null|  Alice|94304|\n",
      "|  30|Brayden|94304|\n",
      "|  19|  Carla|10036|\n",
      "|  46|  Diana| null|\n",
      "|null|Etienne|94104|\n",
      "+----+-------+-----+\n",
      "\n"
     ]
    }
   ],
   "source": [
    "ppl.show()"
   ]
  },
  {
   "cell_type": "code",
   "execution_count": 12,
   "id": "53f366ab",
   "metadata": {},
   "outputs": [
    {
     "data": {
      "text/plain": [
       "[Row(age=None, name='Alice', pcode='94304'),\n",
       " Row(age=30, name='Brayden', pcode='94304'),\n",
       " Row(age=19, name='Carla', pcode='10036'),\n",
       " Row(age=46, name='Diana', pcode=None),\n",
       " Row(age=None, name='Etienne', pcode='94104')]"
      ]
     },
     "execution_count": 12,
     "metadata": {},
     "output_type": "execute_result"
    }
   ],
   "source": [
    "ppl.collect()"
   ]
  },
  {
   "cell_type": "code",
   "execution_count": 13,
   "id": "8e550206",
   "metadata": {},
   "outputs": [],
   "source": [
    "ppl= spark.read.format('json').load(r'C:\\Users\\Krishna\\data\\people.json')"
   ]
  },
  {
   "cell_type": "code",
   "execution_count": 14,
   "id": "f3721771",
   "metadata": {},
   "outputs": [
    {
     "name": "stdout",
     "output_type": "stream",
     "text": [
      "root\n",
      " |-- age: long (nullable = true)\n",
      " |-- name: string (nullable = true)\n",
      " |-- pcode: string (nullable = true)\n",
      "\n"
     ]
    }
   ],
   "source": [
    "ppl.printSchema()"
   ]
  },
  {
   "cell_type": "code",
   "execution_count": 15,
   "id": "f9973108",
   "metadata": {},
   "outputs": [
    {
     "name": "stdout",
     "output_type": "stream",
     "text": [
      "+----+-------+-----+\n",
      "| age|   name|pcode|\n",
      "+----+-------+-----+\n",
      "|null|  Alice|94304|\n",
      "|  30|Brayden|94304|\n",
      "|  19|  Carla|10036|\n",
      "|  46|  Diana| null|\n",
      "|null|Etienne|94104|\n",
      "+----+-------+-----+\n",
      "\n"
     ]
    }
   ],
   "source": [
    "ppl.show()"
   ]
  },
  {
   "cell_type": "code",
   "execution_count": 16,
   "id": "71f80c15",
   "metadata": {},
   "outputs": [],
   "source": [
    "ppl1= spark.read.format('json').load(r'C:\\Users\\Krishna\\data\\people1.json')"
   ]
  },
  {
   "cell_type": "code",
   "execution_count": 17,
   "id": "23e97d8d",
   "metadata": {},
   "outputs": [
    {
     "name": "stdout",
     "output_type": "stream",
     "text": [
      "root\n",
      " |-- city: string (nullable = true)\n",
      " |-- creditcard: string (nullable = true)\n",
      " |-- email: string (nullable = true)\n",
      " |-- mac: string (nullable = true)\n",
      " |-- name: string (nullable = true)\n",
      " |-- timestamp: string (nullable = true)\n",
      "\n"
     ]
    }
   ],
   "source": [
    "ppl1.printSchema()"
   ]
  },
  {
   "cell_type": "code",
   "execution_count": 18,
   "id": "b6b33c6c",
   "metadata": {},
   "outputs": [
    {
     "data": {
      "text/plain": [
       "10000"
      ]
     },
     "execution_count": 18,
     "metadata": {},
     "output_type": "execute_result"
    }
   ],
   "source": [
    "ppl1.count()"
   ]
  },
  {
   "cell_type": "code",
   "execution_count": 19,
   "id": "46a89a6e",
   "metadata": {},
   "outputs": [],
   "source": [
    "acc_par = spark.read.format('parquet').load(r'C:\\Users\\Krishna\\data\\accounts_parquet\\accounts_parquet')"
   ]
  },
  {
   "cell_type": "code",
   "execution_count": 20,
   "id": "84fcb3cb",
   "metadata": {},
   "outputs": [
    {
     "name": "stdout",
     "output_type": "stream",
     "text": [
      "root\n",
      " |-- acct_num: integer (nullable = true)\n",
      " |-- acct_create_dt: long (nullable = true)\n",
      " |-- acct_close_dt: long (nullable = true)\n",
      " |-- first_name: string (nullable = true)\n",
      " |-- last_name: string (nullable = true)\n",
      " |-- address: string (nullable = true)\n",
      " |-- city: string (nullable = true)\n",
      " |-- state: string (nullable = true)\n",
      " |-- zipcode: string (nullable = true)\n",
      " |-- phone_number: string (nullable = true)\n",
      " |-- created: long (nullable = true)\n",
      " |-- modified: long (nullable = true)\n",
      "\n"
     ]
    }
   ],
   "source": [
    "acc_par.printSchema()"
   ]
  },
  {
   "cell_type": "code",
   "execution_count": 21,
   "id": "0b9b6ff0",
   "metadata": {},
   "outputs": [
    {
     "name": "stdout",
     "output_type": "stream",
     "text": [
      "+--------+--------------+-------------+----------+---------+-------------------+----------+-----+-------+------------+-------------+-------------+\n",
      "|acct_num|acct_create_dt|acct_close_dt|first_name|last_name|            address|      city|state|zipcode|phone_number|      created|     modified|\n",
      "+--------+--------------+-------------+----------+---------+-------------------+----------+-----+-------+------------+-------------+-------------+\n",
      "|   32441| 1341603329000|         null|     Peter|  Zachary| 1891 Jessie Street|Long Beach|   CA|  90743|  5628719002|1395174646000|1395174646000|\n",
      "|   32442| 1345273687000|         null|     Duane|     Ruiz|1023 Simpson Street|  Pasadena|   CA|  91051|  6262472463|1395174646000|1395174646000|\n",
      "+--------+--------------+-------------+----------+---------+-------------------+----------+-----+-------+------------+-------------+-------------+\n",
      "only showing top 2 rows\n",
      "\n"
     ]
    }
   ],
   "source": [
    "acc_par.show(2)"
   ]
  },
  {
   "cell_type": "code",
   "execution_count": 22,
   "id": "612a2892",
   "metadata": {},
   "outputs": [
    {
     "data": {
      "text/plain": [
       "97320"
      ]
     },
     "execution_count": 22,
     "metadata": {},
     "output_type": "execute_result"
    }
   ],
   "source": [
    "acc_par.count()"
   ]
  },
  {
   "cell_type": "code",
   "execution_count": 23,
   "id": "e4a9ca8a",
   "metadata": {},
   "outputs": [],
   "source": [
    "latdata = spark.read.format('csv').load(r'C:\\Users\\Krishna\\data\\latlon.tsv')"
   ]
  },
  {
   "cell_type": "code",
   "execution_count": 24,
   "id": "2c053bc0",
   "metadata": {},
   "outputs": [
    {
     "name": "stdout",
     "output_type": "stream",
     "text": [
      "root\n",
      " |-- _c0: string (nullable = true)\n",
      "\n"
     ]
    }
   ],
   "source": [
    "latdata.printSchema()"
   ]
  },
  {
   "cell_type": "code",
   "execution_count": 25,
   "id": "6de9bf2a",
   "metadata": {},
   "outputs": [
    {
     "name": "stdout",
     "output_type": "stream",
     "text": [
      "+--------------------+\n",
      "|                 _c0|\n",
      "+--------------------+\n",
      "|0210\\t43.005895\\t...|\n",
      "|00211\\t43.005895\\...|\n",
      "|00212\\t43.005895\\...|\n",
      "+--------------------+\n",
      "only showing top 3 rows\n",
      "\n"
     ]
    }
   ],
   "source": [
    "latdata.show(3)"
   ]
  },
  {
   "cell_type": "code",
   "execution_count": 26,
   "id": "74644e7b",
   "metadata": {},
   "outputs": [],
   "source": [
    "latdata = spark.read.format('csv').option('sep','\\t')\\\n",
    ".load(r'C:\\Users\\Krishna\\data\\latlon.tsv')"
   ]
  },
  {
   "cell_type": "code",
   "execution_count": 27,
   "id": "33397265",
   "metadata": {},
   "outputs": [
    {
     "name": "stdout",
     "output_type": "stream",
     "text": [
      "root\n",
      " |-- _c0: string (nullable = true)\n",
      " |-- _c1: string (nullable = true)\n",
      " |-- _c2: string (nullable = true)\n",
      "\n"
     ]
    }
   ],
   "source": [
    "latdata.printSchema()"
   ]
  },
  {
   "cell_type": "code",
   "execution_count": 28,
   "id": "9c88471c",
   "metadata": {},
   "outputs": [
    {
     "name": "stdout",
     "output_type": "stream",
     "text": [
      "+-----+---------+----------+\n",
      "|  _c0|      _c1|       _c2|\n",
      "+-----+---------+----------+\n",
      "| 0210|43.005895|-71.013202|\n",
      "|00211|43.005895|-71.013202|\n",
      "+-----+---------+----------+\n",
      "only showing top 2 rows\n",
      "\n"
     ]
    }
   ],
   "source": [
    "latdata.show(2)"
   ]
  },
  {
   "cell_type": "code",
   "execution_count": 35,
   "id": "6742744b",
   "metadata": {},
   "outputs": [],
   "source": [
    "latdata = spark.read.format('csv').option('sep','\\t').option('inferSchema',True)\\\n",
    ".option('header',True).load(r'C:\\Users\\Krishna\\data\\latlon.tsv')"
   ]
  },
  {
   "cell_type": "code",
   "execution_count": 36,
   "id": "b4b44a8c",
   "metadata": {},
   "outputs": [
    {
     "name": "stdout",
     "output_type": "stream",
     "text": [
      "root\n",
      " |-- id: integer (nullable = true)\n",
      " |-- lat: double (nullable = true)\n",
      " |-- longi: double (nullable = true)\n",
      "\n"
     ]
    }
   ],
   "source": [
    "latdata.printSchema()"
   ]
  },
  {
   "cell_type": "code",
   "execution_count": 37,
   "id": "3cc59429",
   "metadata": {},
   "outputs": [
    {
     "name": "stdout",
     "output_type": "stream",
     "text": [
      "+---+---------+----------+\n",
      "| id|      lat|     longi|\n",
      "+---+---------+----------+\n",
      "|210|43.005895|-71.013202|\n",
      "|211|43.005895|-71.013202|\n",
      "|212|43.005895|-71.013202|\n",
      "+---+---------+----------+\n",
      "only showing top 3 rows\n",
      "\n"
     ]
    }
   ],
   "source": [
    "latdata.show(3)"
   ]
  },
  {
   "cell_type": "code",
   "execution_count": 38,
   "id": "a727380b",
   "metadata": {},
   "outputs": [
    {
     "data": {
      "text/plain": [
       "StructType(List(StructField(id,IntegerType,true),StructField(lat,DoubleType,true),StructField(longi,DoubleType,true)))"
      ]
     },
     "execution_count": 38,
     "metadata": {},
     "output_type": "execute_result"
    }
   ],
   "source": [
    "latdata.schema"
   ]
  },
  {
   "cell_type": "code",
   "execution_count": 39,
   "id": "0ffef9cb",
   "metadata": {},
   "outputs": [],
   "source": [
    "from pyspark.sql.types import *"
   ]
  },
  {
   "cell_type": "code",
   "execution_count": 40,
   "id": "f1cc235d",
   "metadata": {},
   "outputs": [],
   "source": [
    "sch = StructType([\\\n",
    "                 StructField(\"code\",IntegerType(),True),\\\n",
    "                 StructField(\"Longitude\",FloatType(),True),\\\n",
    "                 StructField(\"Lattitude\",DoubleType(),True)])"
   ]
  },
  {
   "cell_type": "code",
   "execution_count": 42,
   "id": "fa636194",
   "metadata": {},
   "outputs": [],
   "source": [
    "latlon = spark.read.format('csv')\\\n",
    ".option('sep','\\t')\\\n",
    ".schema(sch)\\\n",
    ".load(r'C:\\Users\\Krishna\\data\\latlon.tsv')"
   ]
  },
  {
   "cell_type": "code",
   "execution_count": 43,
   "id": "bb4dc392",
   "metadata": {},
   "outputs": [
    {
     "name": "stdout",
     "output_type": "stream",
     "text": [
      "root\n",
      " |-- code: integer (nullable = true)\n",
      " |-- Longitude: float (nullable = true)\n",
      " |-- Lattitude: double (nullable = true)\n",
      "\n"
     ]
    }
   ],
   "source": [
    "latlon.printSchema()"
   ]
  },
  {
   "cell_type": "code",
   "execution_count": 44,
   "id": "eec3ba72",
   "metadata": {},
   "outputs": [
    {
     "name": "stdout",
     "output_type": "stream",
     "text": [
      "+----+---------+----------+\n",
      "|code|Longitude| Lattitude|\n",
      "+----+---------+----------+\n",
      "| 210|43.005894|-71.013202|\n",
      "| 211|43.005894|-71.013202|\n",
      "| 212|43.005894|-71.013202|\n",
      "+----+---------+----------+\n",
      "only showing top 3 rows\n",
      "\n"
     ]
    }
   ],
   "source": [
    "latlon.show(3)"
   ]
  },
  {
   "cell_type": "code",
   "execution_count": 49,
   "id": "6f82cfd2",
   "metadata": {},
   "outputs": [],
   "source": [
    "schppl = StructType([\\\n",
    "                    StructField(\"name\",StringType(),True),\\\n",
    "                    StructField(\"pcode\",StringType(),True),\\\n",
    "                    StructField(\"age\",IntegerType(),True)])"
   ]
  },
  {
   "cell_type": "code",
   "execution_count": 50,
   "id": "c1737837",
   "metadata": {},
   "outputs": [],
   "source": [
    "ppl1 = spark.read.format('json').schema(schppl).load(r'C:\\Users\\Krishna\\data\\people.json')"
   ]
  },
  {
   "cell_type": "code",
   "execution_count": 51,
   "id": "0a15ca5c",
   "metadata": {},
   "outputs": [
    {
     "name": "stdout",
     "output_type": "stream",
     "text": [
      "+-------+-----+----+\n",
      "|   name|pcode| age|\n",
      "+-------+-----+----+\n",
      "|  Alice|94304|null|\n",
      "|Brayden|94304|  30|\n",
      "|  Carla|10036|  19|\n",
      "|  Diana| null|  46|\n",
      "|Etienne|94104|null|\n",
      "+-------+-----+----+\n",
      "\n"
     ]
    }
   ],
   "source": [
    "ppl1.show()"
   ]
  },
  {
   "cell_type": "code",
   "execution_count": 52,
   "id": "a1caff4a",
   "metadata": {},
   "outputs": [
    {
     "name": "stdout",
     "output_type": "stream",
     "text": [
      "+----+-------+-----+\n",
      "| age|   name|pcode|\n",
      "+----+-------+-----+\n",
      "|null|  Alice|94304|\n",
      "|  30|Brayden|94304|\n",
      "+----+-------+-----+\n",
      "only showing top 2 rows\n",
      "\n"
     ]
    }
   ],
   "source": [
    "ppl.show(2)"
   ]
  },
  {
   "cell_type": "code",
   "execution_count": 53,
   "id": "c4a539db",
   "metadata": {},
   "outputs": [
    {
     "name": "stdout",
     "output_type": "stream",
     "text": [
      "+----+-------+-----+\n",
      "| age|   name|pcode|\n",
      "+----+-------+-----+\n",
      "|null|  Alice|94304|\n",
      "|  30|Brayden|94304|\n",
      "+----+-------+-----+\n",
      "\n"
     ]
    }
   ],
   "source": [
    "res = ppl.limit(2)\n",
    "res.show()"
   ]
  },
  {
   "cell_type": "code",
   "execution_count": 54,
   "id": "6c0f1acf",
   "metadata": {},
   "outputs": [
    {
     "name": "stdout",
     "output_type": "stream",
     "text": [
      "+-------+----+\n",
      "|   name| age|\n",
      "+-------+----+\n",
      "|  Alice|null|\n",
      "|Brayden|  30|\n",
      "|  Carla|  19|\n",
      "|  Diana|  46|\n",
      "|Etienne|null|\n",
      "+-------+----+\n",
      "\n"
     ]
    }
   ],
   "source": [
    "ppl.select('name','age').show()"
   ]
  },
  {
   "cell_type": "code",
   "execution_count": 55,
   "id": "19f1e257",
   "metadata": {},
   "outputs": [
    {
     "name": "stdout",
     "output_type": "stream",
     "text": [
      "+-------+----+\n",
      "|   name| age|\n",
      "+-------+----+\n",
      "|  Alice|null|\n",
      "|Brayden|  30|\n",
      "|  Carla|  19|\n",
      "|  Diana|  46|\n",
      "|Etienne|null|\n",
      "+-------+----+\n",
      "\n"
     ]
    }
   ],
   "source": [
    "ppl.select(ppl['name'],ppl['age']).show()"
   ]
  },
  {
   "cell_type": "code",
   "execution_count": 56,
   "id": "8968df43",
   "metadata": {},
   "outputs": [
    {
     "name": "stdout",
     "output_type": "stream",
     "text": [
      "+-------+----+\n",
      "|   name| age|\n",
      "+-------+----+\n",
      "|  Alice|null|\n",
      "|Brayden|  30|\n",
      "|  Carla|  19|\n",
      "|  Diana|  46|\n",
      "|Etienne|null|\n",
      "+-------+----+\n",
      "\n"
     ]
    }
   ],
   "source": [
    "ppl.select(ppl.name,ppl.age).show()"
   ]
  },
  {
   "cell_type": "code",
   "execution_count": 57,
   "id": "07d652c6",
   "metadata": {},
   "outputs": [],
   "source": [
    "from pyspark.sql.functions import col\n"
   ]
  },
  {
   "cell_type": "code",
   "execution_count": 58,
   "id": "2288dbe4",
   "metadata": {},
   "outputs": [
    {
     "name": "stdout",
     "output_type": "stream",
     "text": [
      "+-------+----+\n",
      "|   name| age|\n",
      "+-------+----+\n",
      "|  Alice|null|\n",
      "|Brayden|  30|\n",
      "|  Carla|  19|\n",
      "|  Diana|  46|\n",
      "|Etienne|null|\n",
      "+-------+----+\n",
      "\n"
     ]
    }
   ],
   "source": [
    "ppl.select(col('name'),col('age')).show()"
   ]
  },
  {
   "cell_type": "code",
   "execution_count": 59,
   "id": "7d0505ff",
   "metadata": {},
   "outputs": [
    {
     "name": "stdout",
     "output_type": "stream",
     "text": [
      "+---+-----+-----+\n",
      "|age| name|pcode|\n",
      "+---+-----+-----+\n",
      "| 46|Diana| null|\n",
      "+---+-----+-----+\n",
      "\n"
     ]
    }
   ],
   "source": [
    "ppl.where(ppl.age>30).show()"
   ]
  },
  {
   "cell_type": "code",
   "execution_count": 63,
   "id": "60f83432",
   "metadata": {},
   "outputs": [
    {
     "name": "stdout",
     "output_type": "stream",
     "text": [
      "+-------+---+\n",
      "|   name|age|\n",
      "+-------+---+\n",
      "|Brayden| 30|\n",
      "+-------+---+\n",
      "\n"
     ]
    }
   ],
   "source": [
    "ppl.where((ppl.age>20) & (ppl.age<=30)).select('name','age').show()"
   ]
  },
  {
   "cell_type": "code",
   "execution_count": 64,
   "id": "850b96ff",
   "metadata": {},
   "outputs": [
    {
     "name": "stdout",
     "output_type": "stream",
     "text": [
      "+-------+---+\n",
      "|   name|age|\n",
      "+-------+---+\n",
      "|Brayden| 30|\n",
      "|  Carla| 19|\n",
      "|  Diana| 46|\n",
      "+-------+---+\n",
      "\n"
     ]
    }
   ],
   "source": [
    "ppl.where((ppl.age>20) | (ppl.age<=30)).select('name','age').show()"
   ]
  },
  {
   "cell_type": "code",
   "execution_count": 65,
   "id": "3ffcd97c",
   "metadata": {},
   "outputs": [
    {
     "name": "stdout",
     "output_type": "stream",
     "text": [
      "+----+-------+-----+\n",
      "| age|   name|pcode|\n",
      "+----+-------+-----+\n",
      "|null|  Alice|94304|\n",
      "|null|Etienne|94104|\n",
      "|  19|  Carla|10036|\n",
      "|  30|Brayden|94304|\n",
      "|  46|  Diana| null|\n",
      "+----+-------+-----+\n",
      "\n"
     ]
    }
   ],
   "source": [
    "ppl.orderBy('age').show()"
   ]
  },
  {
   "cell_type": "code",
   "execution_count": 66,
   "id": "0ab7f96f",
   "metadata": {},
   "outputs": [
    {
     "name": "stdout",
     "output_type": "stream",
     "text": [
      "+----+-------+-----+\n",
      "| age|   name|pcode|\n",
      "+----+-------+-----+\n",
      "|  46|  Diana| null|\n",
      "|  30|Brayden|94304|\n",
      "|  19|  Carla|10036|\n",
      "|null|  Alice|94304|\n",
      "|null|Etienne|94104|\n",
      "+----+-------+-----+\n",
      "\n"
     ]
    }
   ],
   "source": [
    "ppl.orderBy(ppl.age.desc()).show()"
   ]
  },
  {
   "cell_type": "code",
   "execution_count": 67,
   "id": "62c7b630",
   "metadata": {},
   "outputs": [
    {
     "name": "stdout",
     "output_type": "stream",
     "text": [
      "+----+-------+-----+\n",
      "| age|   name|pcode|\n",
      "+----+-------+-----+\n",
      "|  30|Brayden|94304|\n",
      "|null|  Alice|94304|\n",
      "|null|Etienne|94104|\n",
      "|  19|  Carla|10036|\n",
      "|  46|  Diana| null|\n",
      "+----+-------+-----+\n",
      "\n"
     ]
    }
   ],
   "source": [
    "ppl.orderBy(ppl['pcode'].desc(),col('name').desc()).show()"
   ]
  },
  {
   "cell_type": "code",
   "execution_count": 69,
   "id": "a497e134",
   "metadata": {},
   "outputs": [
    {
     "name": "stdout",
     "output_type": "stream",
     "text": [
      "+-----+-----+\n",
      "|state|count|\n",
      "+-----+-----+\n",
      "|   AZ| 8614|\n",
      "|   OR|10166|\n",
      "|   NV| 8093|\n",
      "|   CA|70447|\n",
      "+-----+-----+\n",
      "\n"
     ]
    }
   ],
   "source": [
    "acc_par.groupBy('state').count().show()"
   ]
  },
  {
   "cell_type": "code",
   "execution_count": 70,
   "id": "95c61652",
   "metadata": {},
   "outputs": [
    {
     "name": "stdout",
     "output_type": "stream",
     "text": [
      "+-----+---------------+-----+\n",
      "|state|           city|count|\n",
      "+-----+---------------+-----+\n",
      "|   CA|        Oakland| 2718|\n",
      "|   CA|       Stockton| 2536|\n",
      "|   AZ|      Flagstaff|  804|\n",
      "|   CA|     Long Beach| 3380|\n",
      "|   NV|      Las Vegas| 3066|\n",
      "|   AZ|        Phoenix| 3142|\n",
      "|   OR|         Eugene| 1162|\n",
      "|   CA|       Torrance| 1071|\n",
      "|   CA|North Hollywood| 1126|\n",
      "|   CA|       San Jose| 2550|\n",
      "|   CA|      Palo Alto| 1372|\n",
      "|   CA|       Richmond| 1361|\n",
      "|   AZ|        Kingman|  795|\n",
      "|   CA|       Alhambra| 1106|\n",
      "|   NV|            Ely|  987|\n",
      "|   CA|         Fresno| 3342|\n",
      "|   CA|       Berkeley| 1310|\n",
      "|   CA|     Marysville| 1292|\n",
      "|   NV|           Elko| 1001|\n",
      "|   CA|         Oxnard| 1145|\n",
      "+-----+---------------+-----+\n",
      "only showing top 20 rows\n",
      "\n"
     ]
    }
   ],
   "source": [
    "acc_par.groupBy('state','city').count().show()"
   ]
  },
  {
   "cell_type": "code",
   "execution_count": 71,
   "id": "a814da75",
   "metadata": {},
   "outputs": [
    {
     "name": "stdout",
     "output_type": "stream",
     "text": [
      "+-----+----------+-----+\n",
      "|state|      city|count|\n",
      "+-----+----------+-----+\n",
      "|   CA|Sacramento| 5318|\n",
      "+-----+----------+-----+\n",
      "\n"
     ]
    }
   ],
   "source": [
    "acc_par.groupBy('state','city').count().where(col('count')>4000).show()"
   ]
  },
  {
   "cell_type": "code",
   "execution_count": 72,
   "id": "f5f2790d",
   "metadata": {},
   "outputs": [
    {
     "name": "stdout",
     "output_type": "stream",
     "text": [
      "+----+-------+-----+\n",
      "| age|   name|pcode|\n",
      "+----+-------+-----+\n",
      "|null|  Alice|94304|\n",
      "|  30|Brayden|94304|\n",
      "|  19|  Carla|10036|\n",
      "|  46|  Diana| null|\n",
      "|null|Etienne|94104|\n",
      "+----+-------+-----+\n",
      "\n"
     ]
    }
   ],
   "source": [
    "ppl.show()"
   ]
  },
  {
   "cell_type": "code",
   "execution_count": 73,
   "id": "58a8936b",
   "metadata": {},
   "outputs": [],
   "source": [
    "ppl2 = ppl.withColumn('id',ppl.age+10)"
   ]
  },
  {
   "cell_type": "code",
   "execution_count": 74,
   "id": "96ab95a3",
   "metadata": {},
   "outputs": [
    {
     "name": "stdout",
     "output_type": "stream",
     "text": [
      "root\n",
      " |-- age: long (nullable = true)\n",
      " |-- name: string (nullable = true)\n",
      " |-- pcode: string (nullable = true)\n",
      "\n"
     ]
    }
   ],
   "source": [
    "ppl.printSchema()"
   ]
  },
  {
   "cell_type": "code",
   "execution_count": 75,
   "id": "81a6e6e7",
   "metadata": {},
   "outputs": [
    {
     "name": "stdout",
     "output_type": "stream",
     "text": [
      "root\n",
      " |-- age: long (nullable = true)\n",
      " |-- name: string (nullable = true)\n",
      " |-- pcode: string (nullable = true)\n",
      " |-- id: long (nullable = true)\n",
      "\n"
     ]
    }
   ],
   "source": [
    "ppl2.printSchema()"
   ]
  },
  {
   "cell_type": "code",
   "execution_count": 76,
   "id": "b413b85b",
   "metadata": {},
   "outputs": [
    {
     "name": "stdout",
     "output_type": "stream",
     "text": [
      "+----+-------+-----+----+\n",
      "| age|   name|pcode|  id|\n",
      "+----+-------+-----+----+\n",
      "|null|  Alice|94304|null|\n",
      "|  30|Brayden|94304|  40|\n",
      "|  19|  Carla|10036|  29|\n",
      "|  46|  Diana| null|  56|\n",
      "|null|Etienne|94104|null|\n",
      "+----+-------+-----+----+\n",
      "\n"
     ]
    }
   ],
   "source": [
    "ppl2.show()"
   ]
  },
  {
   "cell_type": "code",
   "execution_count": 77,
   "id": "3db82834",
   "metadata": {},
   "outputs": [],
   "source": [
    "ppl3 = ppl2.withColumnRenamed('id','code')"
   ]
  },
  {
   "cell_type": "code",
   "execution_count": 78,
   "id": "4849b558",
   "metadata": {},
   "outputs": [
    {
     "name": "stdout",
     "output_type": "stream",
     "text": [
      "root\n",
      " |-- age: long (nullable = true)\n",
      " |-- name: string (nullable = true)\n",
      " |-- pcode: string (nullable = true)\n",
      " |-- id: long (nullable = true)\n",
      "\n"
     ]
    }
   ],
   "source": [
    "ppl2.printSchema()"
   ]
  },
  {
   "cell_type": "code",
   "execution_count": 79,
   "id": "c504dc2d",
   "metadata": {},
   "outputs": [
    {
     "name": "stdout",
     "output_type": "stream",
     "text": [
      "+----+-------+-----+----+\n",
      "| age|   name|pcode|  id|\n",
      "+----+-------+-----+----+\n",
      "|null|  Alice|94304|null|\n",
      "|  30|Brayden|94304|  40|\n",
      "|  19|  Carla|10036|  29|\n",
      "|  46|  Diana| null|  56|\n",
      "|null|Etienne|94104|null|\n",
      "+----+-------+-----+----+\n",
      "\n"
     ]
    }
   ],
   "source": [
    "ppl2.show()"
   ]
  },
  {
   "cell_type": "code",
   "execution_count": 80,
   "id": "4e842850",
   "metadata": {},
   "outputs": [
    {
     "name": "stdout",
     "output_type": "stream",
     "text": [
      "root\n",
      " |-- age: long (nullable = true)\n",
      " |-- name: string (nullable = true)\n",
      " |-- pcode: string (nullable = true)\n",
      " |-- code: long (nullable = true)\n",
      "\n"
     ]
    }
   ],
   "source": [
    "ppl3.printSchema()"
   ]
  },
  {
   "cell_type": "code",
   "execution_count": 81,
   "id": "1a8d6cb8",
   "metadata": {},
   "outputs": [
    {
     "name": "stdout",
     "output_type": "stream",
     "text": [
      "+----+-------+-----+----+\n",
      "| age|   name|pcode|code|\n",
      "+----+-------+-----+----+\n",
      "|null|  Alice|94304|null|\n",
      "|  30|Brayden|94304|  40|\n",
      "|  19|  Carla|10036|  29|\n",
      "|  46|  Diana| null|  56|\n",
      "|null|Etienne|94104|null|\n",
      "+----+-------+-----+----+\n",
      "\n"
     ]
    }
   ],
   "source": [
    "ppl3.show()"
   ]
  },
  {
   "cell_type": "code",
   "execution_count": 85,
   "id": "3074c3d0",
   "metadata": {},
   "outputs": [
    {
     "name": "stdout",
     "output_type": "stream",
     "text": [
      "+-------+-----+\n",
      "|   name|pcode|\n",
      "+-------+-----+\n",
      "|  Alice|94304|\n",
      "|Brayden|94304|\n",
      "|  Carla|10036|\n",
      "|  Diana| null|\n",
      "|Etienne|94104|\n",
      "+-------+-----+\n",
      "\n"
     ]
    }
   ],
   "source": [
    "ppl3.drop('code','age').show()"
   ]
  },
  {
   "cell_type": "code",
   "execution_count": 86,
   "id": "a422d754",
   "metadata": {},
   "outputs": [
    {
     "name": "stdout",
     "output_type": "stream",
     "text": [
      "+---+-------+-----+----+\n",
      "|age|   name|pcode|code|\n",
      "+---+-------+-----+----+\n",
      "| 30|Brayden|94304|  40|\n",
      "| 19|  Carla|10036|  29|\n",
      "+---+-------+-----+----+\n",
      "\n"
     ]
    }
   ],
   "source": [
    "ppl3.na.drop().show()"
   ]
  },
  {
   "cell_type": "code",
   "execution_count": 87,
   "id": "ee67279c",
   "metadata": {},
   "outputs": [
    {
     "name": "stdout",
     "output_type": "stream",
     "text": [
      "+----+-------+-----+----+\n",
      "| age|   name|pcode|code|\n",
      "+----+-------+-----+----+\n",
      "|null|  Alice|94304|null|\n",
      "|  30|Brayden|94304|  40|\n",
      "|  19|  Carla|10036|  29|\n",
      "|  46|  Diana| null|  56|\n",
      "|null|Etienne|94104|null|\n",
      "+----+-------+-----+----+\n",
      "\n"
     ]
    }
   ],
   "source": [
    "ppl3.na.drop(how='all').show()"
   ]
  },
  {
   "cell_type": "code",
   "execution_count": 88,
   "id": "3859abbe",
   "metadata": {},
   "outputs": [
    {
     "name": "stdout",
     "output_type": "stream",
     "text": [
      "+----+-------+-----+----+\n",
      "| age|   name|pcode|code|\n",
      "+----+-------+-----+----+\n",
      "|null|  Alice|94304|null|\n",
      "|  30|Brayden|94304|  40|\n",
      "|  19|  Carla|10036|  29|\n",
      "|null|Etienne|94104|null|\n",
      "+----+-------+-----+----+\n",
      "\n"
     ]
    }
   ],
   "source": [
    "ppl3.na.drop(subset='pcode').show()"
   ]
  },
  {
   "cell_type": "code",
   "execution_count": 89,
   "id": "2ea25f90",
   "metadata": {},
   "outputs": [
    {
     "name": "stdout",
     "output_type": "stream",
     "text": [
      "+---+-------+-----+----+\n",
      "|age|   name|pcode|code|\n",
      "+---+-------+-----+----+\n",
      "|  2|  Alice|94304|   2|\n",
      "| 30|Brayden|94304|  40|\n",
      "| 19|  Carla|10036|  29|\n",
      "| 46|  Diana| null|  56|\n",
      "|  2|Etienne|94104|   2|\n",
      "+---+-------+-----+----+\n",
      "\n"
     ]
    }
   ],
   "source": [
    "ppl3.na.fill(2).show()"
   ]
  },
  {
   "cell_type": "code",
   "execution_count": 90,
   "id": "24e47fa1",
   "metadata": {},
   "outputs": [
    {
     "name": "stdout",
     "output_type": "stream",
     "text": [
      "+---+-------+-----+----+\n",
      "|age|   name|pcode|code|\n",
      "+---+-------+-----+----+\n",
      "| 10|  Alice|94304| 100|\n",
      "| 30|Brayden|94304|  40|\n",
      "| 19|  Carla|10036|  29|\n",
      "| 46|  Diana| null|  56|\n",
      "| 10|Etienne|94104| 100|\n",
      "+---+-------+-----+----+\n",
      "\n"
     ]
    }
   ],
   "source": [
    "ppl3.na.fill({'age':10,'code':100}).show()"
   ]
  },
  {
   "cell_type": "code",
   "execution_count": 91,
   "id": "169ff588",
   "metadata": {},
   "outputs": [
    {
     "name": "stdout",
     "output_type": "stream",
     "text": [
      "+----+-------+-----+----+\n",
      "| age|   name|pcode|code|\n",
      "+----+-------+-----+----+\n",
      "|null|  Smith|94304|null|\n",
      "|  30|Brayden|94304|  40|\n",
      "|  19|  Carla|10036|  29|\n",
      "|  46|  Diana| null|  56|\n",
      "|null|Etienne|94104|null|\n",
      "+----+-------+-----+----+\n",
      "\n"
     ]
    }
   ],
   "source": [
    "ppl3.na.replace('Alice','Smith').show()"
   ]
  },
  {
   "cell_type": "code",
   "execution_count": 92,
   "id": "62ee3810",
   "metadata": {},
   "outputs": [
    {
     "name": "stdout",
     "output_type": "stream",
     "text": [
      "root\n",
      " |-- age: long (nullable = true)\n",
      " |-- name: string (nullable = true)\n",
      " |-- pcode: string (nullable = true)\n",
      "\n"
     ]
    }
   ],
   "source": [
    "ppl.printSchema()"
   ]
  },
  {
   "cell_type": "code",
   "execution_count": 93,
   "id": "fd38a98d",
   "metadata": {},
   "outputs": [
    {
     "data": {
      "text/plain": [
       "5"
      ]
     },
     "execution_count": 93,
     "metadata": {},
     "output_type": "execute_result"
    }
   ],
   "source": [
    "ppl.count()"
   ]
  },
  {
   "cell_type": "code",
   "execution_count": 94,
   "id": "9c9a148a",
   "metadata": {},
   "outputs": [
    {
     "name": "stdout",
     "output_type": "stream",
     "text": [
      "root\n",
      " |-- acct_num: integer (nullable = true)\n",
      " |-- acct_create_dt: long (nullable = true)\n",
      " |-- acct_close_dt: long (nullable = true)\n",
      " |-- first_name: string (nullable = true)\n",
      " |-- last_name: string (nullable = true)\n",
      " |-- address: string (nullable = true)\n",
      " |-- city: string (nullable = true)\n",
      " |-- state: string (nullable = true)\n",
      " |-- zipcode: string (nullable = true)\n",
      " |-- phone_number: string (nullable = true)\n",
      " |-- created: long (nullable = true)\n",
      " |-- modified: long (nullable = true)\n",
      "\n"
     ]
    }
   ],
   "source": [
    "acc_par.printSchema()"
   ]
  },
  {
   "cell_type": "code",
   "execution_count": 95,
   "id": "777437b7",
   "metadata": {},
   "outputs": [
    {
     "data": {
      "text/plain": [
       "97320"
      ]
     },
     "execution_count": 95,
     "metadata": {},
     "output_type": "execute_result"
    }
   ],
   "source": [
    "acc_par.count()"
   ]
  },
  {
   "cell_type": "code",
   "execution_count": 96,
   "id": "39d4dac2",
   "metadata": {},
   "outputs": [
    {
     "data": {
      "text/plain": [
       "486600"
      ]
     },
     "execution_count": 96,
     "metadata": {},
     "output_type": "execute_result"
    }
   ],
   "source": [
    "cj = ppl.crossJoin(acc_par)\n",
    "cj.count()"
   ]
  },
  {
   "cell_type": "code",
   "execution_count": 97,
   "id": "366efdc3",
   "metadata": {},
   "outputs": [
    {
     "name": "stdout",
     "output_type": "stream",
     "text": [
      "+----+-------+-----+--------+--------------+-------------+----------+---------+------------------+----------+-----+-------+------------+-------------+-------------+\n",
      "| age|   name|pcode|acct_num|acct_create_dt|acct_close_dt|first_name|last_name|           address|      city|state|zipcode|phone_number|      created|     modified|\n",
      "+----+-------+-----+--------+--------------+-------------+----------+---------+------------------+----------+-----+-------+------------+-------------+-------------+\n",
      "|null|  Alice|94304|   32441| 1341603329000|         null|     Peter|  Zachary|1891 Jessie Street|Long Beach|   CA|  90743|  5628719002|1395174646000|1395174646000|\n",
      "|  30|Brayden|94304|   32441| 1341603329000|         null|     Peter|  Zachary|1891 Jessie Street|Long Beach|   CA|  90743|  5628719002|1395174646000|1395174646000|\n",
      "+----+-------+-----+--------+--------------+-------------+----------+---------+------------------+----------+-----+-------+------------+-------------+-------------+\n",
      "only showing top 2 rows\n",
      "\n"
     ]
    }
   ],
   "source": [
    "cj.show(2)"
   ]
  },
  {
   "cell_type": "code",
   "execution_count": 99,
   "id": "30b4249c",
   "metadata": {},
   "outputs": [
    {
     "data": {
      "text/plain": [
       "33"
      ]
     },
     "execution_count": 99,
     "metadata": {},
     "output_type": "execute_result"
    }
   ],
   "source": [
    "ij = ppl.join(acc_par,ppl.pcode==acc_par.zipcode)\n",
    "ij.count()"
   ]
  },
  {
   "cell_type": "code",
   "execution_count": 100,
   "id": "042fde11",
   "metadata": {},
   "outputs": [
    {
     "data": {
      "text/plain": [
       "35"
      ]
     },
     "execution_count": 100,
     "metadata": {},
     "output_type": "execute_result"
    }
   ],
   "source": [
    "loj =ppl.join(acc_par,ppl.pcode==acc_par.zipcode,'left')\n",
    "loj.count()"
   ]
  },
  {
   "cell_type": "code",
   "execution_count": 101,
   "id": "2bd93eef",
   "metadata": {},
   "outputs": [
    {
     "data": {
      "text/plain": [
       "97331"
      ]
     },
     "execution_count": 101,
     "metadata": {},
     "output_type": "execute_result"
    }
   ],
   "source": [
    "roj = ppl.join(acc_par,ppl.pcode==acc_par.zipcode,'right_outer')\n",
    "roj.count()"
   ]
  },
  {
   "cell_type": "code",
   "execution_count": 102,
   "id": "e547d84f",
   "metadata": {},
   "outputs": [
    {
     "data": {
      "text/plain": [
       "97333"
      ]
     },
     "execution_count": 102,
     "metadata": {},
     "output_type": "execute_result"
    }
   ],
   "source": [
    "foj = ppl.join(acc_par,ppl.pcode==acc_par.zipcode,'fullouter')\n",
    "foj.count()"
   ]
  },
  {
   "cell_type": "code",
   "execution_count": 103,
   "id": "f1a76cc7",
   "metadata": {},
   "outputs": [
    {
     "name": "stdout",
     "output_type": "stream",
     "text": [
      "+----+-------+-----+\n",
      "| age|   name|pcode|\n",
      "+----+-------+-----+\n",
      "|null|  Alice|94304|\n",
      "|  30|Brayden|94304|\n",
      "|null|Etienne|94104|\n",
      "+----+-------+-----+\n",
      "\n"
     ]
    }
   ],
   "source": [
    "lsj = ppl.join(acc_par,ppl.pcode==acc_par.zipcode,'semi')\n",
    "lsj.show()"
   ]
  },
  {
   "cell_type": "code",
   "execution_count": 104,
   "id": "79af2226",
   "metadata": {},
   "outputs": [
    {
     "name": "stdout",
     "output_type": "stream",
     "text": [
      "+---+-----+-----+\n",
      "|age| name|pcode|\n",
      "+---+-----+-----+\n",
      "| 19|Carla|10036|\n",
      "| 46|Diana| null|\n",
      "+---+-----+-----+\n",
      "\n"
     ]
    }
   ],
   "source": [
    "asj = ppl.join(acc_par,ppl.pcode==acc_par.zipcode,'anti')\n",
    "asj.show()"
   ]
  },
  {
   "cell_type": "code",
   "execution_count": 105,
   "id": "9db2e16e",
   "metadata": {},
   "outputs": [],
   "source": [
    "textdata = spark.read.format('text').load(r'C:\\Users\\Krishna\\data\\spark_python_code\\data_text')"
   ]
  },
  {
   "cell_type": "code",
   "execution_count": 106,
   "id": "703cb474",
   "metadata": {},
   "outputs": [
    {
     "name": "stdout",
     "output_type": "stream",
     "text": [
      "root\n",
      " |-- value: string (nullable = true)\n",
      "\n"
     ]
    }
   ],
   "source": [
    "textdata.printSchema()"
   ]
  },
  {
   "cell_type": "code",
   "execution_count": 107,
   "id": "06ff331c",
   "metadata": {},
   "outputs": [
    {
     "name": "stdout",
     "output_type": "stream",
     "text": [
      "+--------------------+\n",
      "|               value|\n",
      "+--------------------+\n",
      "|Two roads diverge...|\n",
      "|And sorry I could...|\n",
      "|And be one travel...|\n",
      "|And looked down o...|\n",
      "|To where it bent ...|\n",
      "|                    |\n",
      "|Then took the oth...|\n",
      "|And having perhap...|\n",
      "|Because it was gr...|\n",
      "|Though as for tha...|\n",
      "|Had worn them rea...|\n",
      "|                    |\n",
      "|And both that mor...|\n",
      "|In leaves no step...|\n",
      "|Oh, I kept the fi...|\n",
      "|Yet knowing how w...|\n",
      "|I doubted if I sh...|\n",
      "|                    |\n",
      "|I shall be tellin...|\n",
      "|Somewhere ages an...|\n",
      "+--------------------+\n",
      "only showing top 20 rows\n",
      "\n"
     ]
    }
   ],
   "source": [
    "textdata.show()"
   ]
  },
  {
   "cell_type": "code",
   "execution_count": 108,
   "id": "d8aeb7c1",
   "metadata": {},
   "outputs": [
    {
     "data": {
      "text/plain": [
       "27"
      ]
     },
     "execution_count": 108,
     "metadata": {},
     "output_type": "execute_result"
    }
   ],
   "source": [
    "textdata.count()"
   ]
  },
  {
   "cell_type": "code",
   "execution_count": 109,
   "id": "719c9062",
   "metadata": {},
   "outputs": [
    {
     "data": {
      "text/plain": [
       "27"
      ]
     },
     "execution_count": 109,
     "metadata": {},
     "output_type": "execute_result"
    }
   ],
   "source": [
    "textdata.na.drop().count()"
   ]
  },
  {
   "cell_type": "code",
   "execution_count": 110,
   "id": "9c5998bb",
   "metadata": {},
   "outputs": [],
   "source": [
    "from pyspark.sql.functions import *"
   ]
  },
  {
   "cell_type": "code",
   "execution_count": 114,
   "id": "868962b5",
   "metadata": {},
   "outputs": [
    {
     "name": "stdout",
     "output_type": "stream",
     "text": [
      "+--------+\n",
      "|    data|\n",
      "+--------+\n",
      "|     Two|\n",
      "|   roads|\n",
      "|diverged|\n",
      "+--------+\n",
      "only showing top 3 rows\n",
      "\n"
     ]
    }
   ],
   "source": [
    "wordsdf = textdata.select(explode(split('value',' ')).alias('data'))\n",
    "wordsdf.show(3)"
   ]
  },
  {
   "cell_type": "code",
   "execution_count": 113,
   "id": "0fa60e85",
   "metadata": {},
   "outputs": [
    {
     "data": {
      "text/plain": [
       "171"
      ]
     },
     "execution_count": 113,
     "metadata": {},
     "output_type": "execute_result"
    }
   ],
   "source": [
    "wordsdf.count()"
   ]
  },
  {
   "cell_type": "code",
   "execution_count": 115,
   "id": "4573bcba",
   "metadata": {},
   "outputs": [
    {
     "name": "stdout",
     "output_type": "stream",
     "text": [
      "+-------+-----+\n",
      "|   data|count|\n",
      "+-------+-----+\n",
      "| travel|    1|\n",
      "|trodden|    1|\n",
      "|  could|    2|\n",
      "|   down|    1|\n",
      "|    not|    1|\n",
      "|    by,|    1|\n",
      "| yellow|    1|\n",
      "| claim,|    1|\n",
      "|     In|    1|\n",
      "|  there|    1|\n",
      "|   bent|    1|\n",
      "|    was|    1|\n",
      "|    for|    2|\n",
      "|    how|    1|\n",
      "|passing|    1|\n",
      "| looked|    1|\n",
      "| black.|    1|\n",
      "|    I--|    1|\n",
      "|    one|    3|\n",
      "|     in|    3|\n",
      "+-------+-----+\n",
      "only showing top 20 rows\n",
      "\n"
     ]
    }
   ],
   "source": [
    "wordsdf.groupBy('data').count().show()"
   ]
  },
  {
   "cell_type": "code",
   "execution_count": 116,
   "id": "87198f64",
   "metadata": {},
   "outputs": [],
   "source": [
    "schw = StructType([\\\n",
    "                  StructField('name',StringType(),True),\\\n",
    "                  StructField('Department',StringType(),True),\\\n",
    "                  StructField('salary',IntegerType(),True)])"
   ]
  },
  {
   "cell_type": "code",
   "execution_count": 117,
   "id": "803b195e",
   "metadata": {},
   "outputs": [],
   "source": [
    "df = spark.read.format('csv').schema(schw).load(r'C:\\Users\\Krishna\\data\\windowdata.txt')"
   ]
  },
  {
   "cell_type": "code",
   "execution_count": 118,
   "id": "655049f5",
   "metadata": {},
   "outputs": [
    {
     "name": "stdout",
     "output_type": "stream",
     "text": [
      "root\n",
      " |-- name: string (nullable = true)\n",
      " |-- Department: string (nullable = true)\n",
      " |-- salary: integer (nullable = true)\n",
      "\n"
     ]
    }
   ],
   "source": [
    "df.printSchema()"
   ]
  },
  {
   "cell_type": "code",
   "execution_count": 119,
   "id": "3e7d74c0",
   "metadata": {},
   "outputs": [
    {
     "name": "stdout",
     "output_type": "stream",
     "text": [
      "+-------+----------+------+\n",
      "|   name|Department|salary|\n",
      "+-------+----------+------+\n",
      "|  James|     Sales|  3000|\n",
      "|Michael|     Sales|  4600|\n",
      "| Robert|     Sales|  4100|\n",
      "|  Maria|   Finance|  3000|\n",
      "|    Ram|     Sales|  3000|\n",
      "|  Scott|   Finance|  3300|\n",
      "|    Jen|   Finance|  3900|\n",
      "|   Jeff| Marketing|  3000|\n",
      "|  Kumar| Marketing|  2000|\n",
      "| Sundar|     Sales|  4100|\n",
      "|   Amit|     Sales|  4600|\n",
      "+-------+----------+------+\n",
      "\n"
     ]
    }
   ],
   "source": [
    "df.show()"
   ]
  },
  {
   "cell_type": "code",
   "execution_count": 120,
   "id": "ba2a0b1f",
   "metadata": {},
   "outputs": [
    {
     "name": "stdout",
     "output_type": "stream",
     "text": [
      "+----------+-----------+\n",
      "|Department|max(salary)|\n",
      "+----------+-----------+\n",
      "|     Sales|       4600|\n",
      "|   Finance|       3900|\n",
      "| Marketing|       3000|\n",
      "+----------+-----------+\n",
      "\n"
     ]
    }
   ],
   "source": [
    "df.groupBy('Department').max('salary').show()"
   ]
  },
  {
   "cell_type": "code",
   "execution_count": 121,
   "id": "4483f669",
   "metadata": {},
   "outputs": [],
   "source": [
    "from pyspark.sql.window import *"
   ]
  },
  {
   "cell_type": "code",
   "execution_count": 122,
   "id": "3d52ba7f",
   "metadata": {},
   "outputs": [],
   "source": [
    "win1 = Window.partitionBy('Department')"
   ]
  },
  {
   "cell_type": "code",
   "execution_count": 123,
   "id": "ec074166",
   "metadata": {},
   "outputs": [
    {
     "name": "stdout",
     "output_type": "stream",
     "text": [
      "+-------+----------+------+----+\n",
      "|   name|Department|salary|msal|\n",
      "+-------+----------+------+----+\n",
      "|  Maria|   Finance|  3000|3900|\n",
      "|  Scott|   Finance|  3300|3900|\n",
      "|    Jen|   Finance|  3900|3900|\n",
      "|   Jeff| Marketing|  3000|3000|\n",
      "|  Kumar| Marketing|  2000|3000|\n",
      "|  James|     Sales|  3000|4600|\n",
      "|Michael|     Sales|  4600|4600|\n",
      "| Robert|     Sales|  4100|4600|\n",
      "|    Ram|     Sales|  3000|4600|\n",
      "| Sundar|     Sales|  4100|4600|\n",
      "|   Amit|     Sales|  4600|4600|\n",
      "+-------+----------+------+----+\n",
      "\n"
     ]
    }
   ],
   "source": [
    "res = df.withColumn('msal', max('salary').over(win1))\n",
    "res.show()"
   ]
  },
  {
   "cell_type": "code",
   "execution_count": 124,
   "id": "6b5c116f",
   "metadata": {},
   "outputs": [
    {
     "name": "stdout",
     "output_type": "stream",
     "text": [
      "+-------+----------+------+----+\n",
      "|   name|Department|salary|msal|\n",
      "+-------+----------+------+----+\n",
      "|  Maria|   Finance|  3000| 900|\n",
      "|  Scott|   Finance|  3300| 600|\n",
      "|    Jen|   Finance|  3900|   0|\n",
      "|   Jeff| Marketing|  3000|   0|\n",
      "|  Kumar| Marketing|  2000|1000|\n",
      "|  James|     Sales|  3000|1600|\n",
      "|Michael|     Sales|  4600|   0|\n",
      "| Robert|     Sales|  4100| 500|\n",
      "|    Ram|     Sales|  3000|1600|\n",
      "| Sundar|     Sales|  4100| 500|\n",
      "|   Amit|     Sales|  4600|   0|\n",
      "+-------+----------+------+----+\n",
      "\n"
     ]
    }
   ],
   "source": [
    "res = df.withColumn('msal', max('salary').over(win1)- col('salary'))\n",
    "res.show()"
   ]
  },
  {
   "cell_type": "code",
   "execution_count": 125,
   "id": "98e00641",
   "metadata": {},
   "outputs": [],
   "source": [
    "win2 = Window.partitionBy('Department').orderBy('salary')"
   ]
  },
  {
   "cell_type": "code",
   "execution_count": 127,
   "id": "23c9ce06",
   "metadata": {},
   "outputs": [
    {
     "name": "stdout",
     "output_type": "stream",
     "text": [
      "+-------+----------+------+----+\n",
      "|   name|Department|salary|rank|\n",
      "+-------+----------+------+----+\n",
      "|  Maria|   Finance|  3000|   1|\n",
      "|  Scott|   Finance|  3300|   2|\n",
      "|    Jen|   Finance|  3900|   3|\n",
      "|  Kumar| Marketing|  2000|   1|\n",
      "|   Jeff| Marketing|  3000|   2|\n",
      "|  James|     Sales|  3000|   1|\n",
      "|    Ram|     Sales|  3000|   1|\n",
      "| Robert|     Sales|  4100|   3|\n",
      "| Sundar|     Sales|  4100|   3|\n",
      "|Michael|     Sales|  4600|   5|\n",
      "|   Amit|     Sales|  4600|   5|\n",
      "+-------+----------+------+----+\n",
      "\n"
     ]
    }
   ],
   "source": [
    "res = df.withColumn('rank', rank().over(win2))\n",
    "res.show()"
   ]
  },
  {
   "cell_type": "code",
   "execution_count": 130,
   "id": "304e3494",
   "metadata": {},
   "outputs": [
    {
     "ename": "AnalysisException",
     "evalue": "Temporary view 'accounts' already exists",
     "output_type": "error",
     "traceback": [
      "\u001b[1;31m---------------------------------------------------------------------------\u001b[0m",
      "\u001b[1;31mAnalysisException\u001b[0m                         Traceback (most recent call last)",
      "\u001b[1;32m~\\AppData\\Local\\Temp\\ipykernel_26732\\1182396221.py\u001b[0m in \u001b[0;36m<module>\u001b[1;34m\u001b[0m\n\u001b[1;32m----> 1\u001b[1;33m \u001b[0macc_par\u001b[0m\u001b[1;33m.\u001b[0m\u001b[0mcreateTempView\u001b[0m\u001b[1;33m(\u001b[0m\u001b[1;34m'accounts'\u001b[0m\u001b[1;33m)\u001b[0m\u001b[1;33m\u001b[0m\u001b[1;33m\u001b[0m\u001b[0m\n\u001b[0m",
      "\u001b[1;32mC:\\trainings\\guvi\\spark-3.2.4-bin-hadoop3.2\\python\\pyspark\\sql\\dataframe.py\u001b[0m in \u001b[0;36mcreateTempView\u001b[1;34m(self, name)\u001b[0m\n\u001b[0;32m    165\u001b[0m \u001b[1;33m\u001b[0m\u001b[0m\n\u001b[0;32m    166\u001b[0m         \"\"\"\n\u001b[1;32m--> 167\u001b[1;33m         \u001b[0mself\u001b[0m\u001b[1;33m.\u001b[0m\u001b[0m_jdf\u001b[0m\u001b[1;33m.\u001b[0m\u001b[0mcreateTempView\u001b[0m\u001b[1;33m(\u001b[0m\u001b[0mname\u001b[0m\u001b[1;33m)\u001b[0m\u001b[1;33m\u001b[0m\u001b[1;33m\u001b[0m\u001b[0m\n\u001b[0m\u001b[0;32m    168\u001b[0m \u001b[1;33m\u001b[0m\u001b[0m\n\u001b[0;32m    169\u001b[0m     \u001b[1;32mdef\u001b[0m \u001b[0mcreateOrReplaceTempView\u001b[0m\u001b[1;33m(\u001b[0m\u001b[0mself\u001b[0m\u001b[1;33m,\u001b[0m \u001b[0mname\u001b[0m\u001b[1;33m)\u001b[0m\u001b[1;33m:\u001b[0m\u001b[1;33m\u001b[0m\u001b[1;33m\u001b[0m\u001b[0m\n",
      "\u001b[1;32mC:\\trainings\\guvi\\spark-3.2.4-bin-hadoop3.2\\python\\lib\\py4j-0.10.9.5-src.zip\\py4j\\java_gateway.py\u001b[0m in \u001b[0;36m__call__\u001b[1;34m(self, *args)\u001b[0m\n\u001b[0;32m   1319\u001b[0m \u001b[1;33m\u001b[0m\u001b[0m\n\u001b[0;32m   1320\u001b[0m         \u001b[0manswer\u001b[0m \u001b[1;33m=\u001b[0m \u001b[0mself\u001b[0m\u001b[1;33m.\u001b[0m\u001b[0mgateway_client\u001b[0m\u001b[1;33m.\u001b[0m\u001b[0msend_command\u001b[0m\u001b[1;33m(\u001b[0m\u001b[0mcommand\u001b[0m\u001b[1;33m)\u001b[0m\u001b[1;33m\u001b[0m\u001b[1;33m\u001b[0m\u001b[0m\n\u001b[1;32m-> 1321\u001b[1;33m         return_value = get_return_value(\n\u001b[0m\u001b[0;32m   1322\u001b[0m             answer, self.gateway_client, self.target_id, self.name)\n\u001b[0;32m   1323\u001b[0m \u001b[1;33m\u001b[0m\u001b[0m\n",
      "\u001b[1;32mC:\\trainings\\guvi\\spark-3.2.4-bin-hadoop3.2\\python\\pyspark\\sql\\utils.py\u001b[0m in \u001b[0;36mdeco\u001b[1;34m(*a, **kw)\u001b[0m\n\u001b[0;32m    115\u001b[0m                 \u001b[1;31m# Hide where the exception came from that shows a non-Pythonic\u001b[0m\u001b[1;33m\u001b[0m\u001b[1;33m\u001b[0m\u001b[0m\n\u001b[0;32m    116\u001b[0m                 \u001b[1;31m# JVM exception message.\u001b[0m\u001b[1;33m\u001b[0m\u001b[1;33m\u001b[0m\u001b[0m\n\u001b[1;32m--> 117\u001b[1;33m                 \u001b[1;32mraise\u001b[0m \u001b[0mconverted\u001b[0m \u001b[1;32mfrom\u001b[0m \u001b[1;32mNone\u001b[0m\u001b[1;33m\u001b[0m\u001b[1;33m\u001b[0m\u001b[0m\n\u001b[0m\u001b[0;32m    118\u001b[0m             \u001b[1;32melse\u001b[0m\u001b[1;33m:\u001b[0m\u001b[1;33m\u001b[0m\u001b[1;33m\u001b[0m\u001b[0m\n\u001b[0;32m    119\u001b[0m                 \u001b[1;32mraise\u001b[0m\u001b[1;33m\u001b[0m\u001b[1;33m\u001b[0m\u001b[0m\n",
      "\u001b[1;31mAnalysisException\u001b[0m: Temporary view 'accounts' already exists"
     ]
    }
   ],
   "source": [
    "acc_par.createTempView('accounts')"
   ]
  },
  {
   "cell_type": "code",
   "execution_count": 129,
   "id": "4166e155",
   "metadata": {},
   "outputs": [
    {
     "data": {
      "text/plain": [
       "[Table(name='accounts', database=None, description=None, tableType='TEMPORARY', isTemporary=True)]"
      ]
     },
     "execution_count": 129,
     "metadata": {},
     "output_type": "execute_result"
    }
   ],
   "source": [
    "spark.catalog.listTables()"
   ]
  },
  {
   "cell_type": "code",
   "execution_count": 131,
   "id": "14bd2666",
   "metadata": {},
   "outputs": [],
   "source": [
    "spark.catalog.dropTempView('accounts')"
   ]
  },
  {
   "cell_type": "code",
   "execution_count": 132,
   "id": "fd7999ea",
   "metadata": {},
   "outputs": [
    {
     "data": {
      "text/plain": [
       "[]"
      ]
     },
     "execution_count": 132,
     "metadata": {},
     "output_type": "execute_result"
    }
   ],
   "source": [
    "spark.catalog.listTables()"
   ]
  },
  {
   "cell_type": "code",
   "execution_count": 134,
   "id": "95c1dc20",
   "metadata": {},
   "outputs": [],
   "source": [
    "acc_par.createOrReplaceTempView('accounts')"
   ]
  },
  {
   "cell_type": "code",
   "execution_count": 136,
   "id": "6b8f26ce",
   "metadata": {},
   "outputs": [
    {
     "name": "stdout",
     "output_type": "stream",
     "text": [
      "+-----+----------+----+\n",
      "|state|      city| cnt|\n",
      "+-----+----------+----+\n",
      "|   CA|Sacramento|5318|\n",
      "+-----+----------+----+\n",
      "\n"
     ]
    }
   ],
   "source": [
    "res = spark.sql('select state,city,count(*) cnt from accounts group by state,city having cnt>4000')\n",
    "res.show()"
   ]
  },
  {
   "cell_type": "code",
   "execution_count": 141,
   "id": "fccbeb3f",
   "metadata": {},
   "outputs": [],
   "source": [
    "ppl= spark.read.format('json').load(r'c:\\users\\krishna\\data\\people.json')"
   ]
  },
  {
   "cell_type": "code",
   "execution_count": 147,
   "id": "d660f3bd",
   "metadata": {},
   "outputs": [
    {
     "data": {
      "text/plain": [
       "1"
      ]
     },
     "execution_count": 147,
     "metadata": {},
     "output_type": "execute_result"
    }
   ],
   "source": [
    "ppl.rdd.getNumPartitions()"
   ]
  },
  {
   "cell_type": "code",
   "execution_count": 145,
   "id": "e1a1b0c8",
   "metadata": {},
   "outputs": [
    {
     "data": {
      "text/plain": [
       "[[Row(age=None, name='Alice', pcode='94304'),\n",
       "  Row(age=30, name='Brayden', pcode='94304'),\n",
       "  Row(age=19, name='Carla', pcode='10036'),\n",
       "  Row(age=46, name='Diana', pcode=None),\n",
       "  Row(age=None, name='Etienne', pcode='94104')]]"
      ]
     },
     "execution_count": 145,
     "metadata": {},
     "output_type": "execute_result"
    }
   ],
   "source": [
    "ppl.rdd.glom().collect()"
   ]
  },
  {
   "cell_type": "code",
   "execution_count": 146,
   "id": "576cd8fd",
   "metadata": {},
   "outputs": [],
   "source": [
    "ppp2= ppl.repartition(3)"
   ]
  },
  {
   "cell_type": "code",
   "execution_count": 148,
   "id": "db44c852",
   "metadata": {},
   "outputs": [
    {
     "data": {
      "text/plain": [
       "3"
      ]
     },
     "execution_count": 148,
     "metadata": {},
     "output_type": "execute_result"
    }
   ],
   "source": [
    "ppp2.rdd.getNumPartitions()"
   ]
  },
  {
   "cell_type": "code",
   "execution_count": 149,
   "id": "16fed193",
   "metadata": {},
   "outputs": [
    {
     "data": {
      "text/plain": [
       "[[Row(age=30, name='Brayden', pcode='94304'),\n",
       "  Row(age=None, name='Etienne', pcode='94104')],\n",
       " [Row(age=None, name='Alice', pcode='94304'),\n",
       "  Row(age=19, name='Carla', pcode='10036')],\n",
       " [Row(age=46, name='Diana', pcode=None)]]"
      ]
     },
     "execution_count": 149,
     "metadata": {},
     "output_type": "execute_result"
    }
   ],
   "source": [
    "ppp2.rdd.glom().collect()"
   ]
  },
  {
   "cell_type": "code",
   "execution_count": 150,
   "id": "ce305e42",
   "metadata": {},
   "outputs": [
    {
     "name": "stdout",
     "output_type": "stream",
     "text": [
      "+----+-------+-----+\n",
      "| age|   name|pcode|\n",
      "+----+-------+-----+\n",
      "|  30|Brayden|94304|\n",
      "|null|Etienne|94104|\n",
      "|null|  Alice|94304|\n",
      "|  19|  Carla|10036|\n",
      "|  46|  Diana| null|\n",
      "+----+-------+-----+\n",
      "\n"
     ]
    }
   ],
   "source": [
    "ppp2.show()"
   ]
  },
  {
   "cell_type": "code",
   "execution_count": 155,
   "id": "e858da66",
   "metadata": {},
   "outputs": [],
   "source": [
    "ppp3= ppp2.coalesce(2)"
   ]
  },
  {
   "cell_type": "code",
   "execution_count": 156,
   "id": "6bc508f1",
   "metadata": {},
   "outputs": [
    {
     "data": {
      "text/plain": [
       "2"
      ]
     },
     "execution_count": 156,
     "metadata": {},
     "output_type": "execute_result"
    }
   ],
   "source": [
    "ppp3.rdd.getNumPartitions()"
   ]
  },
  {
   "cell_type": "code",
   "execution_count": 157,
   "id": "89b95065",
   "metadata": {},
   "outputs": [
    {
     "name": "stdout",
     "output_type": "stream",
     "text": [
      "+-----+-----+\n",
      "|pcode|count|\n",
      "+-----+-----+\n",
      "|94104|    1|\n",
      "| null|    1|\n",
      "|94304|    2|\n",
      "|10036|    1|\n",
      "+-----+-----+\n",
      "\n"
     ]
    }
   ],
   "source": [
    "res = ppp3.groupBy('pcode').count()\n",
    "res.show()"
   ]
  },
  {
   "cell_type": "code",
   "execution_count": 158,
   "id": "fa09b21c",
   "metadata": {},
   "outputs": [],
   "source": [
    "ppp4 = ppl.repartitionByRange(3,'pcode')"
   ]
  },
  {
   "cell_type": "code",
   "execution_count": 159,
   "id": "2daddb0c",
   "metadata": {},
   "outputs": [
    {
     "data": {
      "text/plain": [
       "3"
      ]
     },
     "execution_count": 159,
     "metadata": {},
     "output_type": "execute_result"
    }
   ],
   "source": [
    "ppp4.rdd.getNumPartitions()"
   ]
  },
  {
   "cell_type": "code",
   "execution_count": 160,
   "id": "34987ca4",
   "metadata": {},
   "outputs": [
    {
     "data": {
      "text/plain": [
       "33"
      ]
     },
     "execution_count": 160,
     "metadata": {},
     "output_type": "execute_result"
    }
   ],
   "source": [
    "ppl.join(acc_par,ppl.pcode==acc_par.zipcode).count()"
   ]
  },
  {
   "cell_type": "code",
   "execution_count": 161,
   "id": "9e6f448d",
   "metadata": {},
   "outputs": [],
   "source": [
    "from pyspark.sql.functions import broadcast"
   ]
  },
  {
   "cell_type": "code",
   "execution_count": 163,
   "id": "92a6e9d4",
   "metadata": {},
   "outputs": [],
   "source": [
    "res=acc_par.join(broadcast(ppl),ppl.pcode==acc_par.zipcode)"
   ]
  },
  {
   "cell_type": "code",
   "execution_count": 164,
   "id": "f0ac307d",
   "metadata": {},
   "outputs": [
    {
     "name": "stdout",
     "output_type": "stream",
     "text": [
      "== Physical Plan ==\n",
      "AdaptiveSparkPlan isFinalPlan=false\n",
      "+- BroadcastHashJoin [zipcode#99], [pcode#1663], Inner, BuildRight, false\n",
      "   :- Filter isnotnull(zipcode#99)\n",
      "   :  +- FileScan parquet [acct_num#91,acct_create_dt#92L,acct_close_dt#93L,first_name#94,last_name#95,address#96,city#97,state#98,zipcode#99,phone_number#100,created#101L,modified#102L] Batched: true, DataFilters: [isnotnull(zipcode#99)], Format: Parquet, Location: InMemoryFileIndex(1 paths)[file:/C:/Users/Krishna/data/accounts_parquet/accounts_parquet], PartitionFilters: [], PushedFilters: [IsNotNull(zipcode)], ReadSchema: struct<acct_num:int,acct_create_dt:bigint,acct_close_dt:bigint,first_name:string,last_name:string...\n",
      "   +- BroadcastExchange HashedRelationBroadcastMode(List(input[2, string, false]),false), [plan_id=2694]\n",
      "      +- Filter isnotnull(pcode#1663)\n",
      "         +- FileScan json [age#1661L,name#1662,pcode#1663] Batched: false, DataFilters: [isnotnull(pcode#1663)], Format: JSON, Location: InMemoryFileIndex(1 paths)[file:/c:/users/krishna/data/people.json], PartitionFilters: [], PushedFilters: [IsNotNull(pcode)], ReadSchema: struct<age:bigint,name:string,pcode:string>\n",
      "\n",
      "\n"
     ]
    }
   ],
   "source": [
    "res.explain()"
   ]
  },
  {
   "cell_type": "code",
   "execution_count": null,
   "id": "6d951f27",
   "metadata": {},
   "outputs": [],
   "source": []
  }
 ],
 "metadata": {
  "kernelspec": {
   "display_name": "Python 3 (ipykernel)",
   "language": "python",
   "name": "python3"
  },
  "language_info": {
   "codemirror_mode": {
    "name": "ipython",
    "version": 3
   },
   "file_extension": ".py",
   "mimetype": "text/x-python",
   "name": "python",
   "nbconvert_exporter": "python",
   "pygments_lexer": "ipython3",
   "version": "3.13.5"
  }
 },
 "nbformat": 4,
 "nbformat_minor": 5
}
