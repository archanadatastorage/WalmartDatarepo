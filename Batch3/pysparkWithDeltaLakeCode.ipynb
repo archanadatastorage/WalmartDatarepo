{
 "cells": [
  {
   "cell_type": "code",
   "execution_count": 1,
   "id": "23b49c9e",
   "metadata": {},
   "outputs": [],
   "source": [
    "import findspark\n",
    "findspark.init()"
   ]
  },
  {
   "cell_type": "code",
   "execution_count": 2,
   "id": "8a87fc64",
   "metadata": {},
   "outputs": [],
   "source": [
    "#!pip install delta-spark"
   ]
  },
  {
   "cell_type": "code",
   "execution_count": 3,
   "id": "dff8a73e",
   "metadata": {},
   "outputs": [],
   "source": [
    "from pyspark.sql import SparkSession\n",
    "from delta import configure_spark_with_delta_pip"
   ]
  },
  {
   "cell_type": "code",
   "execution_count": 4,
   "id": "d48961ab",
   "metadata": {},
   "outputs": [],
   "source": [
    "\n",
    "builder = (\n",
    "    SparkSession.builder.appName(\"DeltaExample\")\n",
    "    .config(\"spark.sql.extensions\", \"io.delta.sql.DeltaSparkSessionExtension\")\n",
    "    .config(\"spark.sql.catalog.spark_catalog\", \"org.apache.spark.sql.delta.catalog.DeltaCatalog\")\n",
    ")\n"
   ]
  },
  {
   "cell_type": "code",
   "execution_count": 5,
   "id": "896d7501",
   "metadata": {},
   "outputs": [],
   "source": [
    "spark = configure_spark_with_delta_pip(builder).getOrCreate()"
   ]
  },
  {
   "cell_type": "code",
   "execution_count": 6,
   "id": "ea618070",
   "metadata": {},
   "outputs": [
    {
     "name": "stdout",
     "output_type": "stream",
     "text": [
      "+---+----------+\n",
      "|age|first_name|\n",
      "+---+----------+\n",
      "| 51|      leah|\n",
      "| 47|       bob|\n",
      "| 23|        li|\n",
      "+---+----------+\n",
      "\n"
     ]
    }
   ],
   "source": [
    "# create a dataframe\n",
    "data = [\n",
    "    {'first_name': 'bob', 'age': 47},\n",
    "    {'first_name': 'li', 'age': 23},\n",
    "    {'first_name': 'leah', 'age': 51}\n",
    "]\n",
    "\n",
    "df = spark.createDataFrame(data=data)\n",
    "\n",
    "# write data to delta table\n",
    "df.write.format(\"delta\").save(\"/tmp/spark-delta-table\")\n",
    "\n",
    "# read delta table\n",
    "df = spark.read.format(\"delta\").load(\"/tmp/spark-delta-table\")\n",
    "df.show()\n",
    "\n",
    "\n"
   ]
  },
  {
   "cell_type": "code",
   "execution_count": 7,
   "id": "f35a7d3f",
   "metadata": {},
   "outputs": [
    {
     "name": "stdout",
     "output_type": "stream",
     "text": [
      "+-----+--------+\n",
      "|value|category|\n",
      "+-----+--------+\n",
      "|    1|       A|\n",
      "|    2|       A|\n",
      "|    3|       A|\n",
      "|    4|       B|\n",
      "|    5|       B|\n",
      "|    6|       B|\n",
      "+-----+--------+\n",
      "\n"
     ]
    }
   ],
   "source": [
    "data = [(1, \"A\"), (2, \"A\"), (3, \"A\"),\n",
    "        (4, \"B\"), (5, \"B\"), (6, \"B\")]\n",
    "df = spark.createDataFrame(data, [\"value\", \"category\"])\n",
    "\n",
    "df.show()"
   ]
  },
  {
   "cell_type": "code",
   "execution_count": 9,
   "id": "8e46d01d",
   "metadata": {},
   "outputs": [],
   "source": [
    "from pyspark.sql.functions import pandas_udf\n",
    "from pyspark.sql.types import DoubleType\n",
    "import pandas as pd\n",
    "@pandas_udf(DoubleType())\n",
    "def mean_of_squares(v: pd.Series) -> float:\n",
    "    return (v**2).mean()"
   ]
  },
  {
   "cell_type": "code",
   "execution_count": 10,
   "id": "b653ee3d",
   "metadata": {},
   "outputs": [
    {
     "name": "stdout",
     "output_type": "stream",
     "text": [
      "+--------+------------------+\n",
      "|category|   mean_of_squares|\n",
      "+--------+------------------+\n",
      "|       A| 4.666666666666667|\n",
      "|       B|25.666666666666668|\n",
      "+--------+------------------+\n",
      "\n"
     ]
    },
    {
     "name": "stderr",
     "output_type": "stream",
     "text": [
      "----------------------------------------\n",
      "Exception occurred during processing of request from ('127.0.0.1', 63199)\n",
      "Traceback (most recent call last):\n",
      "  File \"C:\\Users\\Krishna\\anaconda3\\lib\\socketserver.py\", line 316, in _handle_request_noblock\n",
      "    self.process_request(request, client_address)\n",
      "  File \"C:\\Users\\Krishna\\anaconda3\\lib\\socketserver.py\", line 347, in process_request\n",
      "    self.finish_request(request, client_address)\n",
      "  File \"C:\\Users\\Krishna\\anaconda3\\lib\\socketserver.py\", line 360, in finish_request\n",
      "    self.RequestHandlerClass(request, client_address, self)\n",
      "  File \"C:\\Users\\Krishna\\anaconda3\\lib\\socketserver.py\", line 747, in __init__\n",
      "    self.handle()\n",
      "  File \"C:\\trainings\\guvi\\spark-3.2.4-bin-hadoop3.2\\python\\pyspark\\accumulators.py\", line 262, in handle\n",
      "    poll(accum_updates)\n",
      "  File \"C:\\trainings\\guvi\\spark-3.2.4-bin-hadoop3.2\\python\\pyspark\\accumulators.py\", line 235, in poll\n",
      "    if func():\n",
      "  File \"C:\\trainings\\guvi\\spark-3.2.4-bin-hadoop3.2\\python\\pyspark\\accumulators.py\", line 239, in accum_updates\n",
      "    num_updates = read_int(self.rfile)\n",
      "  File \"C:\\trainings\\guvi\\spark-3.2.4-bin-hadoop3.2\\python\\pyspark\\serializers.py\", line 562, in read_int\n",
      "    length = stream.read(4)\n",
      "  File \"C:\\Users\\Krishna\\anaconda3\\lib\\socket.py\", line 704, in readinto\n",
      "    return self._sock.recv_into(b)\n",
      "ConnectionResetError: [WinError 10054] An existing connection was forcibly closed by the remote host\n",
      "----------------------------------------\n"
     ]
    }
   ],
   "source": [
    "result = df.groupBy(\"category\").agg(mean_of_squares(df[\"value\"]).alias(\"mean_of_squares\"))\n",
    "\n",
    "result.show()"
   ]
  },
  {
   "cell_type": "code",
   "execution_count": null,
   "id": "f323bc36",
   "metadata": {},
   "outputs": [],
   "source": []
  }
 ],
 "metadata": {
  "kernelspec": {
   "display_name": "Python 3 (ipykernel)",
   "language": "python",
   "name": "python3"
  },
  "language_info": {
   "codemirror_mode": {
    "name": "ipython",
    "version": 3
   },
   "file_extension": ".py",
   "mimetype": "text/x-python",
   "name": "python",
   "nbconvert_exporter": "python",
   "pygments_lexer": "ipython3",
   "version": "3.9.13"
  }
 },
 "nbformat": 4,
 "nbformat_minor": 5
}
